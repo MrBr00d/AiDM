{
  "cells": [
    {
      "cell_type": "markdown",
      "source": [
        "<center>\n",
        "<h1>Assignment 1 : Reccommender Systems</h1>\n",
        "<h3>Part 1 - Python Notebook </h3>\n",
        "Duijn, Nicolette, s3026752<br>\n",
        "Elangovan, Abhiram, s3442403 <br>\n",
        "van Vliet, Nick, s3442403\n",
        "</center>"
      ],
      "metadata": {
        "id": "OJFSpyBroCPL"
      }
    },
    {
      "cell_type": "code",
      "execution_count": null,
      "metadata": {
        "id": "tsLWLY1DKILx"
      },
      "outputs": [],
      "source": [
        "import pandas as pd\n",
        "import numpy as np\n",
        "from sklearn.model_selection import KFold \n",
        "import math\n",
        "from sklearn.metrics import mean_absolute_error as mae\n",
        "from sklearn import linear_model\n",
        "from sklearn.metrics import mean_squared_error\n",
        "import time\n",
        "import matplotlib.pyplot as plt\n",
        "from sklearn.preprocessing import StandardScaler\n",
        "\n",
        "#!pip install sweetviz\n",
        "#import sweetviz as sv"
      ]
    },
    {
      "cell_type": "code",
      "execution_count": null,
      "metadata": {
        "id": "MPWGr9FpVh3h"
      },
      "outputs": [],
      "source": [
        "# Reading dataset\n",
        "dataset = pd.read_table('ratings.dat', header = None, sep = '::', engine = 'python', usecols = [0,1,2], names = ('UserID','MovieID', 'Ratings'))\n",
        "\n",
        "#eda = sv.analyze(dataset)\n",
        "#eda.show_html()"
      ]
    },
    {
      "cell_type": "code",
      "source": [
        "dataset.mean()"
      ],
      "metadata": {
        "id": "cenFd9vafqMD",
        "outputId": "b47337e8-6e4a-4e94-96e7-91032f597952",
        "colab": {
          "base_uri": "https://localhost:8080/"
        }
      },
      "execution_count": null,
      "outputs": [
        {
          "output_type": "execute_result",
          "data": {
            "text/plain": [
              "UserID     3024.512348\n",
              "MovieID    1865.539898\n",
              "Ratings       3.581564\n",
              "dtype: float64"
            ]
          },
          "metadata": {},
          "execution_count": 27
        }
      ]
    },
    {
      "cell_type": "markdown",
      "metadata": {
        "id": "N4HXxrX6mlhT"
      },
      "source": [
        "# Task 1.1 Naive Approaches"
      ]
    },
    {
      "cell_type": "code",
      "execution_count": null,
      "metadata": {
        "id": "ujnzRwdJmqAZ"
      },
      "outputs": [],
      "source": [
        "# Make the cross validation\n",
        "\n",
        "n_splits = 5\n",
        "KF = KFold(n_splits=n_splits, random_state=123, shuffle=True)\n",
        "\n",
        "# Create Lists \n",
        "GlobalAvergage_RMSE, UserAverage_RMSE, MovieAverage_RMSE, LinReg_RMSE, LinRegInter_RMSE = list(),list(),list(),list(),list()\n",
        "GlobalAvergage_MAE, UserAverage_MAE, MovieAverage_MAE, LinReg_MAE, LinRegInter_MAE = list(),list(),list(),list(),list()\n",
        "\n",
        "GlobalAvergage_RMSE_test, UserAverage_RMSE_test, MovieAverage_RMSE_test, LinReg_RMSE_test, LinRegInter_RMSE_test = list(),list(),list(),list(),list()\n",
        "GlobalAvergage_MAE_test, UserAverage_MAE_test, MovieAverage_MAE_test, LinReg_MAE_test, LinRegInter_MAE_test = list(),list(),list(),list(),list()"
      ]
    },
    {
      "cell_type": "code",
      "execution_count": null,
      "metadata": {
        "colab": {
          "base_uri": "https://localhost:8080/"
        },
        "id": "CcYa3NROgeDW",
        "outputId": "ba97048b-afa0-4df8-b83a-a25531c05b02"
      },
      "outputs": [
        {
          "output_type": "stream",
          "name": "stdout",
          "text": [
            "Total runtime: 1.9274404048919678 s\n"
          ]
        }
      ],
      "source": [
        "# Naive Approach - Global Average\n",
        "\n",
        "start = time.time()\n",
        "\n",
        "for train, test in KF.split(dataset):\n",
        "    #Define X and y in train and test\n",
        "    X_train, X_test = dataset.iloc[train, 0:2], dataset.iloc[test, 0:2]\n",
        "    y_train, y_test = dataset.iloc[train, -1], dataset.iloc[test, -1]\n",
        "    \n",
        "    # Models\n",
        "    GlobalAvergage = y_train.mean()\n",
        "\n",
        "    # Predictions \n",
        "    pred_GlobalAvergage = [GlobalAvergage] * len(X_train) \n",
        "    pred_GlobalAvergage_test = [GlobalAvergage] * len(X_test)\n",
        "   \n",
        "    #RMSE's \n",
        "    RMSE_GlobalAvergage = math.sqrt(mean_squared_error(pred_GlobalAvergage,y_train))\n",
        "    RMSE_GlobalAvergage_test = math.sqrt(mean_squared_error(pred_GlobalAvergage_test,y_test))\n",
        "\n",
        "    GlobalAvergage_RMSE.append(RMSE_GlobalAvergage)\n",
        "    GlobalAvergage_RMSE_test.append(RMSE_GlobalAvergage_test)\n",
        "\n",
        " \n",
        "    # MAE's \n",
        "    MAE_GlobalAvergage = mae(pred_GlobalAvergage, y_train)\n",
        "    MAE_GlobalAvergage_test = mae(pred_GlobalAvergage_test, y_test)\n",
        "\n",
        "    \n",
        "    GlobalAvergage_MAE.append(MAE_GlobalAvergage)\n",
        "    GlobalAvergage_MAE_test.append(MAE_GlobalAvergage_test)\n",
        "    \n",
        "end = time.time()\n",
        "tot_time = np.subtract(end, start)\n",
        "print(f'Total runtime: {tot_time} s')    "
      ]
    },
    {
      "cell_type": "code",
      "execution_count": null,
      "metadata": {
        "id": "K6hQXcsSnNqa"
      },
      "outputs": [],
      "source": [
        "def User(Train, Test):\n",
        "    predicted = list()\n",
        "    user_dict = {}\n",
        "    Global_mean = Train['Ratings'].mean()\n",
        "    avg_user = Train.groupby(\"UserID\").mean()['Ratings']\n",
        "    keys = avg_user.index.values\n",
        "    for i in keys:\n",
        "        user_dict[i] = avg_user[i]\n",
        "    \n",
        "    for u, m, r in np.array(Test):\n",
        "        if u in user_dict:\n",
        "            predicted.append(user_dict[u])\n",
        "        else:\n",
        "            predicted.append(Global_mean)\n",
        "    \n",
        "    return(predicted)\n",
        "\n",
        "def Movie(Train, Test):\n",
        "    predicted = list()\n",
        "    movie_dict = {}\n",
        "    Global_mean = Train['Ratings'].mean()\n",
        "    avg_movie = Train.groupby(\"MovieID\").mean()['Ratings']\n",
        "    keys = avg_movie.index.values\n",
        "    for i in keys:\n",
        "        movie_dict[i] = avg_movie[i]\n",
        "    \n",
        "    for u, m, r in np.array(Test):\n",
        "        if m in movie_dict:\n",
        "            predicted.append(movie_dict[m])\n",
        "        else:\n",
        "            predicted.append(Global_mean)\n",
        "    return(predicted)"
      ]
    },
    {
      "cell_type": "code",
      "execution_count": null,
      "metadata": {
        "id": "QdvN0oTKu1Up",
        "colab": {
          "base_uri": "https://localhost:8080/"
        },
        "outputId": "8899b407-7b9d-417c-8d74-775b54b7039d"
      },
      "outputs": [
        {
          "output_type": "stream",
          "name": "stdout",
          "text": [
            "Total runtime: 7.8140270709991455 s\n"
          ]
        }
      ],
      "source": [
        "# Naive Approach - User Average\n",
        "\n",
        "\n",
        "start = time.time()\n",
        "\n",
        "for train_indexes, test_indexes in KF.split(dataset):\n",
        "    #Define train and test\n",
        "    Train_set = dataset.iloc[train_indexes]\n",
        "    Test_set = dataset.iloc[test_indexes]\n",
        "    \n",
        "    predicted_train = User(Train_set, Train_set)\n",
        "    predicted_test = User(Train_set, Test_set)\n",
        "    \n",
        "    UserAverage_RMSE.append(np.sqrt(np.divide(np.sum(np.square(np.subtract(Train_set.iloc[:,2], predicted_train))), len(Train_set))))\n",
        "    UserAverage_RMSE_test.append(np.sqrt(np.divide(np.sum(np.square(np.subtract(Test_set.iloc[:,2], predicted_test))), len(Test_set))))\n",
        "    UserAverage_MAE.append(np.divide(np.sum(np.abs(np.subtract(Train_set.iloc[:,2], predicted_train))), len(Train_set)))\n",
        "    UserAverage_MAE_test.append(np.divide(np.sum(np.abs(np.subtract(Test_set.iloc[:,2], predicted_test))), len(Test_set)))\n",
        "end = time.time()\n",
        "tot_time = np.subtract(end, start)\n",
        "print(f'Total runtime: {tot_time} s')"
      ]
    },
    {
      "cell_type": "code",
      "execution_count": null,
      "metadata": {
        "id": "spDwgg2jiIL5",
        "colab": {
          "base_uri": "https://localhost:8080/"
        },
        "outputId": "4bc2a0c6-4be3-4b3a-e0b0-9462572d6147"
      },
      "outputs": [
        {
          "output_type": "stream",
          "name": "stdout",
          "text": [
            "Total runtime: 7.889576435089111 s\n"
          ]
        }
      ],
      "source": [
        "# Naive Approach - Movie Average\n",
        "\n",
        "\n",
        "start = time.time()\n",
        "for train_indexes, test_indexes in KF.split(dataset):\n",
        "    #Define train and test\n",
        "    Train_set = dataset.iloc[train_indexes]\n",
        "    Test_set = dataset.iloc[test_indexes]\n",
        "    \n",
        "    predicted_train = Movie(Train_set, Train_set)\n",
        "    predicted_test = Movie(Train_set, Test_set)\n",
        "    \n",
        "    MovieAverage_RMSE.append(np.sqrt(np.divide(np.sum(np.square(np.subtract(Train_set.iloc[:,2], predicted_train))), len(Train_set))))\n",
        "    MovieAverage_RMSE_test.append(np.sqrt(np.divide(np.sum(np.square(np.subtract(Test_set.iloc[:,2], predicted_test))), len(Test_set))))\n",
        "    MovieAverage_MAE.append(np.divide(np.sum(np.abs(np.subtract(Train_set.iloc[:,2], predicted_train))), len(Train_set)))\n",
        "    MovieAverage_MAE_test.append(np.divide(np.sum(np.abs(np.subtract(Test_set.iloc[:,2], predicted_test))), len(Test_set)))\n",
        "\n",
        "end = time.time()\n",
        "tot_time = np.subtract(end, start)\n",
        "print(f'Total runtime: {tot_time} s')"
      ]
    },
    {
      "cell_type": "code",
      "execution_count": null,
      "metadata": {
        "id": "Ih-LPcocu5I5",
        "colab": {
          "base_uri": "https://localhost:8080/"
        },
        "outputId": "80698eda-e7c2-4b56-f58e-53a59eec3114"
      },
      "outputs": [
        {
          "output_type": "stream",
          "name": "stdout",
          "text": [
            "Total runtime: 2.344867706298828 s\n"
          ]
        }
      ],
      "source": [
        "# Naive Approach - Linear Regression\n",
        "\n",
        "\n",
        "start = time.time()\n",
        "\n",
        "\n",
        "for train, test in KF.split(dataset):\n",
        "    #Define X and y in train and test\n",
        "    X_train, X_test = dataset.iloc[train, 0:2], dataset.iloc[test, 0:2]\n",
        "    y_train, y_test = dataset.iloc[train, -1], dataset.iloc[test, -1]\n",
        "    \n",
        "    # Models\n",
        "    UserAverage = dataset.iloc[train]\n",
        "    MovieAverage = dataset.iloc[train]\n",
        "    \n",
        "    UserAverage_test = dataset.iloc[test]\n",
        "    MovieAverage_test = dataset.iloc[test]\n",
        "    \n",
        "    # Create dataframe for Linear Regression\n",
        "    UserAverage = UserAverage['Ratings'].groupby(UserAverage['UserID'], group_keys=False).transform('mean') \n",
        "    MovieAverage = MovieAverage['Ratings'].groupby(MovieAverage['MovieID'], group_keys=False).transform('mean')\n",
        "    X_lr = pd.DataFrame(columns = ['UserAverage', 'MovieAverage'])\n",
        "    X_lr['UserAverage'] = UserAverage\n",
        "    X_lr['MovieAverage'] = MovieAverage       \n",
        "    modelLinReg = linear_model.LinearRegression(fit_intercept=False).fit(X_lr,y_train)\n",
        "    \n",
        "    UserAverage_test = UserAverage_test['Ratings'].groupby(UserAverage_test['UserID'], group_keys=False).transform('mean') \n",
        "    MovieAverage_test = MovieAverage_test['Ratings'].groupby(MovieAverage_test['MovieID'], group_keys=False).transform('mean')\n",
        "    X_lr_test = pd.DataFrame(columns = ['UserAverage', 'MovieAverage'])\n",
        "    X_lr_test['UserAverage'] = UserAverage_test\n",
        "    X_lr_test['MovieAverage'] = MovieAverage_test           \n",
        "    \n",
        "    # Predictions \n",
        "    pred_LinReg = modelLinReg.predict(X_lr)\n",
        "    pred_LinReg_test = modelLinReg.predict(X_lr_test)\n",
        "    \n",
        "    #RMSE's \n",
        "    RMSE_LinReg = math.sqrt(mean_squared_error(pred_LinReg,y_train))\n",
        "    RMSE_LinReg_test = math.sqrt(mean_squared_error(pred_LinReg_test,y_test))\n",
        "    \n",
        "    LinReg_RMSE.append(RMSE_LinReg)\n",
        "    LinReg_RMSE_test.append(RMSE_LinReg_test)\n",
        "    \n",
        "    # MAE's \n",
        "    MAE_LinReg = mae(pred_LinReg, np.asarray(y_train))\n",
        "    MAE_LinReg_test = mae(pred_LinReg_test, y_test)\n",
        "\n",
        "    LinReg_MAE.append(MAE_LinReg)\n",
        "    LinReg_MAE_test.append(MAE_LinReg_test)\n",
        "    \n",
        "\n",
        "end = time.time()\n",
        "tot_time = np.subtract(end, start)\n",
        "print(f'Total runtime: {tot_time} s')"
      ]
    },
    {
      "cell_type": "code",
      "execution_count": null,
      "metadata": {
        "id": "nVm5MaGDu6w5",
        "colab": {
          "base_uri": "https://localhost:8080/"
        },
        "outputId": "8c059d23-a0e2-4668-e5d1-cf6cd546fbcb"
      },
      "outputs": [
        {
          "output_type": "stream",
          "name": "stdout",
          "text": [
            "Total runtime: 2.323260545730591 s\n"
          ]
        }
      ],
      "source": [
        "# Naive Approach - Linear Regression with Intercept\n",
        "\n",
        "\n",
        "start = time.time()\n",
        "\n",
        "\n",
        "for train, test in KF.split(dataset):\n",
        "    #Define X and y in train and test\n",
        "    X_train, X_test = dataset.iloc[train, 0:2], dataset.iloc[test, 0:2]\n",
        "    y_train, y_test = dataset.iloc[train, -1], dataset.iloc[test, -1]\n",
        "    \n",
        "    # Models\n",
        "    UserAverage = dataset.iloc[train]\n",
        "    MovieAverage = dataset.iloc[train]\n",
        "    \n",
        "    UserAverage_test = dataset.iloc[test]\n",
        "    MovieAverage_test = dataset.iloc[test]\n",
        "    \n",
        "    # Create dataframe for Linear Regression\n",
        "    UserAverage = UserAverage['Ratings'].groupby(UserAverage['UserID'], group_keys=False).transform('mean') \n",
        "    MovieAverage = MovieAverage['Ratings'].groupby(MovieAverage['MovieID'], group_keys=False).transform('mean')\n",
        "    X_lr_inter = pd.DataFrame(columns = ['UserAverage', 'MovieAverage'])\n",
        "    X_lr_inter['UserAverage'] = UserAverage\n",
        "    X_lr_inter['MovieAverage'] = MovieAverage       \n",
        "    modelLinRegInter = linear_model.LinearRegression(fit_intercept=True).fit(X_lr_inter,y_train)\n",
        "    \n",
        "    UserAverage_test = UserAverage_test['Ratings'].groupby(UserAverage_test['UserID'], group_keys=False).transform('mean') \n",
        "    MovieAverage_test = MovieAverage_test['Ratings'].groupby(MovieAverage_test['MovieID'], group_keys=False).transform('mean')\n",
        "    X_lr_test_inter = pd.DataFrame(columns = ['UserAverage', 'MovieAverage'])\n",
        "    X_lr_test_inter['UserAverage'] = UserAverage_test\n",
        "    X_lr_test_inter['MovieAverage'] = MovieAverage_test       \n",
        "    \n",
        "    # Predictions \n",
        "    pred_LinRegInter = modelLinRegInter.predict(X_lr_inter)\n",
        "    pred_LinRegInter_test = modelLinRegInter.predict(X_lr_test_inter)\n",
        "    \n",
        "    #RMSE's \n",
        "    RMSE_LinRegInter = math.sqrt(mean_squared_error(pred_LinRegInter,y_train))\n",
        "    RMSE_LinRegInter_test = math.sqrt(mean_squared_error(pred_LinRegInter_test,y_test))\n",
        "    \n",
        "    LinRegInter_RMSE.append(RMSE_LinRegInter)\n",
        "    LinRegInter_RMSE_test.append(RMSE_LinRegInter_test)\n",
        "    \n",
        "    # MAE's \n",
        "    MAE_LinRegInter = mae(pred_LinRegInter, y_train)\n",
        "    MAE_LinRegInter_test = mae(pred_LinRegInter_test, y_test)\n",
        "\n",
        "    LinRegInter_MAE.append(MAE_LinRegInter)\n",
        "    LinRegInter_MAE_test.append(MAE_LinRegInter_test)\n",
        "        \n",
        "\n",
        "end = time.time()\n",
        "tot_time = np.subtract(end, start)\n",
        "print(f'Total runtime: {tot_time} s')"
      ]
    },
    {
      "cell_type": "code",
      "execution_count": null,
      "metadata": {
        "id": "e6dXVK_UGpGZ"
      },
      "outputs": [],
      "source": [
        "Average_RMSE_GlobalAvergage = np.mean(GlobalAvergage_RMSE)\n",
        "Average_MAE_GlobalAvergage =  np.mean(GlobalAvergage_MAE)\n",
        "\n",
        "Average_RMSE_UserAverage = np.mean(UserAverage_RMSE)\n",
        "Average_MAE_UserAverage =  np.mean(UserAverage_MAE)\n",
        "\n",
        "Average_RMSE_MovieAverage = np.mean(MovieAverage_RMSE)\n",
        "Average_MAE_MovieAverage = np.mean(MovieAverage_MAE)\n",
        "\n",
        "Average_RMSE_LinReg = np.mean(LinReg_RMSE)\n",
        "Average_MAE_LinReg = np.mean(LinReg_MAE)\n",
        "\n",
        "Average_RMSE_LinRegInter = np.mean(LinRegInter_RMSE)\n",
        "Average_MAE_LinRegInter = np.mean(LinRegInter_MAE)"
      ]
    },
    {
      "cell_type": "code",
      "execution_count": null,
      "metadata": {
        "colab": {
          "base_uri": "https://localhost:8080/"
        },
        "id": "mbp7yTMju-rK",
        "outputId": "9b942669-2d38-41db-bd09-9b924a8c1a58"
      },
      "outputs": [
        {
          "output_type": "stream",
          "name": "stdout",
          "text": [
            "Global Average on the Train set the mean RMSE                   = 1.1171012202724344; the mean MAE = 0.9338608368374448\n",
            "User Average on the Train set the mean RMSE                     = 1.0276690855268948; the mean MAE = 0.8227249188594131\n",
            "Movie Average on the Train set the mean RMSE                    = 0.9742247376329038; the mean MAE = 0.7783327744410681\n",
            "Linear Regression on the Train set the mean RMSE                = 0.9465615551888543; the mean MAE = 0.7585533811464578\n",
            "Linear Regression with intercept on the Train set the mean RMSE = 0.9146271443996492; the mean MAE = 0.7250569615019544\n"
          ]
        }
      ],
      "source": [
        "print(f'Global Average on the Train set the mean RMSE                   = {Average_RMSE_GlobalAvergage}; the mean MAE = {Average_MAE_GlobalAvergage}')\n",
        "print(f'User Average on the Train set the mean RMSE                     = {Average_RMSE_UserAverage}; the mean MAE = {Average_MAE_UserAverage}')\n",
        "print(f'Movie Average on the Train set the mean RMSE                    = {Average_RMSE_MovieAverage}; the mean MAE = {Average_MAE_MovieAverage}')\n",
        "print(f'Linear Regression on the Train set the mean RMSE                = {Average_RMSE_LinReg}; the mean MAE = {Average_MAE_LinReg}')\n",
        "print(f'Linear Regression with intercept on the Train set the mean RMSE = {Average_RMSE_LinRegInter}; the mean MAE = {Average_MAE_LinRegInter}')"
      ]
    },
    {
      "cell_type": "code",
      "execution_count": null,
      "metadata": {
        "id": "r5SLjzrNKf0h"
      },
      "outputs": [],
      "source": [
        "Average_RMSE_GlobalAvergage_test = np.mean(GlobalAvergage_RMSE_test)\n",
        "Average_MAE_GlobalAvergage_test =  np.mean(GlobalAvergage_MAE_test)\n",
        "\n",
        "Average_RMSE_UserAverage_test = np.mean(UserAverage_RMSE_test)\n",
        "Average_MAE_UserAverage_test =  np.mean(UserAverage_MAE_test)\n",
        "\n",
        "Average_RMSE_MovieAverage_test = np.mean(MovieAverage_RMSE_test)\n",
        "Average_MAE_MovieAverage_test = np.mean(MovieAverage_MAE_test)\n",
        "\n",
        "Average_RMSE_LinReg_test = np.mean(LinReg_RMSE_test)\n",
        "Average_MAE_LinReg_test = np.mean(LinReg_MAE_test)\n",
        "\n",
        "Average_RMSE_LinRegInter_test = np.mean(LinRegInter_RMSE_test)\n",
        "Average_MAE_LinRegInter_test = np.mean(LinRegInter_MAE_test)"
      ]
    },
    {
      "cell_type": "code",
      "execution_count": null,
      "metadata": {
        "colab": {
          "base_uri": "https://localhost:8080/"
        },
        "id": "swZgcZ0_vGWm",
        "outputId": "aae254dd-fa3c-495c-e06f-dd0d2aa9a64f"
      },
      "outputs": [
        {
          "output_type": "stream",
          "name": "stdout",
          "text": [
            "Global Average on the Test set the mean RMSE                   = 1.117100689212873; the mean MAE = 0.9338609691154162\n",
            "User Average on the Test set the mean RMSE                     = 1.03551276240495; the mean MAE = 0.8290272360320732\n",
            "Movie Average on the Test set the mean RMSE                    = 0.9794113512327757; the mean MAE = 0.7822917257566733\n",
            "Linear Regression on the Test set the mean RMSE                = 0.934633421514661; the mean MAE = 0.7487582102802492\n",
            "Linear Regression with intercept on the Test set the mean RMSE = 0.9005467579253942; the mean MAE = 0.7130920759240753\n"
          ]
        }
      ],
      "source": [
        "print(f'Global Average on the Test set the mean RMSE                   = {Average_RMSE_GlobalAvergage_test}; the mean MAE = {Average_MAE_GlobalAvergage_test}')\n",
        "print(f'User Average on the Test set the mean RMSE                     = {Average_RMSE_UserAverage_test}; the mean MAE = {Average_MAE_UserAverage_test}')\n",
        "print(f'Movie Average on the Test set the mean RMSE                    = {Average_RMSE_MovieAverage_test}; the mean MAE = {Average_MAE_MovieAverage_test}')\n",
        "print(f'Linear Regression on the Test set the mean RMSE                = {Average_RMSE_LinReg_test}; the mean MAE = {Average_MAE_LinReg_test}')\n",
        "print(f'Linear Regression with intercept on the Test set the mean RMSE = {Average_RMSE_LinRegInter_test}; the mean MAE = {Average_MAE_LinRegInter_test}')"
      ]
    },
    {
      "cell_type": "markdown",
      "metadata": {
        "id": "CQT8cckeKgGG"
      },
      "source": [
        "# Task 1.2 UV Matrix Decomposition\n"
      ]
    },
    {
      "cell_type": "code",
      "execution_count": null,
      "metadata": {
        "id": "Uxc3jYCkKjFg"
      },
      "outputs": [],
      "source": [
        "dataset_task2 = dataset.pivot(\n",
        "    index='UserID',\n",
        "    columns='MovieID',\n",
        "    values='Ratings'\n",
        ")"
      ]
    },
    {
      "cell_type": "code",
      "execution_count": null,
      "metadata": {
        "id": "rVKBQUNQNErq"
      },
      "outputs": [],
      "source": [
        "\n",
        "start = time.time()\n",
        "\n",
        "# Initialize parameters\n",
        "fig, (ax1, ax2) = plt.subplots(2)\n",
        "n_iter = 0\n",
        "rme_list = list()\n",
        "MAE_list = list()\n",
        "n_splits = 5\n",
        "Threshold = 0.0001\n",
        "np.random.seed(123)\n",
        "rand_seeds = np.random.randint(10, size = 5)\n",
        "\n",
        "# Cross validation \n",
        "KF = KFold(n_splits=5, random_state=123, shuffle=True)\n",
        "\n",
        "# Kfold loop (5 datasets)\n",
        "for Train, Test in KF.split(dataset):\n",
        "    dataset_2_Train, dataset_2_Test = dataset.loc[Train], dataset.loc[Test]\n",
        "\n",
        "    # Pivot Dataset and scale the dataset\n",
        "    dataset_split = dataset_2_Train.pivot(\n",
        "    index='UserID',\n",
        "    columns='MovieID',\n",
        "    values='Ratings'\n",
        "    )\n",
        "    scaler = StandardScaler(with_std=False)\n",
        "    dataset_split = scaler.fit_transform(dataset_split)\n",
        "    dataset_split = pd.DataFrame(dataset_split)\n",
        "\n",
        "    #Set random seeds\n",
        "    np.random.seed(rand_seeds[n_iter])\n",
        "    #Create Init matrices\n",
        "    M = dataset_split.to_numpy()\n",
        "    d = 2\n",
        "    n = dataset_split.shape[0]\n",
        "    m = dataset_split.shape[1]\n",
        "    a = dataset_split.stack().mean()\n",
        "    U = np.empty([n,d])\n",
        "    V = np.empty([d,m])\n",
        "    V = np.random.randn(d, m) # random numbers to increase chance of reachine global minimum\n",
        "    U = np.random.randn(n, d)\n",
        "    uv = np.matmul(U,V)\n",
        "\n",
        "    # Create Init KFold dependant parameters\n",
        "    halt = True\n",
        "    n_iter += 1\n",
        "    n_loop = 1\n",
        "    l_RMSE_loop = list()\n",
        "    l_MAE_loop = list()\n",
        "\n",
        "    # Calculate initial RMSE\n",
        "    dif_squared_0 = np.nan_to_num(np.square(np.subtract(uv, M)))\n",
        "    dif_squared_total_sum = np.sum(dif_squared_0)\n",
        "    N_non_0 = np.count_nonzero(dif_squared_0)\n",
        "    RME = np.divide(dif_squared_total_sum, N_non_0)\n",
        "    RMSE = np.sqrt(RME)\n",
        "    l_RMSE_loop.append(RMSE)\n",
        "\n",
        "    # Calculate initial MAE\n",
        "    dif_abs = np.nan_to_num(np.abs(np.subtract(uv, M)))\n",
        "    dif_abs_sum = np.sum(dif_abs)\n",
        "    N_non_0_abs = np.count_nonzero(dif_abs)\n",
        "    MAE = np.divide(dif_abs_sum, N_non_0_abs)\n",
        "    l_MAE_loop.append(MAE)\n",
        "\n",
        "    # Iterate as long as change of RMSE is bigger than threshold\n",
        "    while halt:\n",
        "        RME_old = RMSE\n",
        "        n_loop+=1\n",
        "\n",
        "        #Update U matrix\n",
        "        for r in range(U.shape[0]):\n",
        "            numerator = 0\n",
        "            denominator = 0\n",
        "\n",
        "            for s in range(d):\n",
        "                U_rk = U[r,:]\n",
        "                U_rk = np.delete(U_rk, s, 0)\n",
        "                V_kj = np.delete(V, s, 0)\n",
        "                V_sj = V[s,:]\n",
        "                P = np.matmul(U_rk, V_kj)\n",
        "                m_rj = M[r,:]\n",
        "                numerator = np.multiply(V_sj,(np.subtract(m_rj, P)))\n",
        "                numerator = np.nansum(np.multiply(numerator, (np.isfinite(m_rj))))\n",
        "                denominator = np.square(V_sj)\n",
        "                denominator = np.nansum(np.multiply(denominator, (np.isfinite(m_rj))))\n",
        "                new_var = np.divide(numerator, denominator)\n",
        "                U[r,s] = new_var\n",
        "\n",
        "        #update V matrix\n",
        "        for r in range(d):\n",
        "            for s in range(V.shape[1]):\n",
        "                V_ks = V[:,s]\n",
        "                V_ks = np.delete(V_ks, r, 0)\n",
        "                U_ik = np.delete(U, r, 1)\n",
        "                U_ir = U[:,r]\n",
        "                P = np.matmul(U_ik, V_ks)\n",
        "                m_is = M[:,s]\n",
        "                numerator = np.multiply(U_ir, (np.subtract(m_is, P)))\n",
        "                numerator = np.nansum(np.multiply(numerator, (np.isfinite(m_is))))\n",
        "                denominator = np.square(U_ir)\n",
        "                denominator = np.nansum(np.multiply(denominator, (np.isfinite(m_is))))\n",
        "                newvar = np.divide(numerator, denominator)\n",
        "                V[r,s] = newvar\n",
        "\n",
        "        # Matrix multiplication and comparison to original matrix M + calc MSE\n",
        "        uv = np.matmul(U,V)\n",
        "\n",
        "        # Scale back to original matrix, check if values are 1 < value < 5\n",
        "        # Set values outside range to 1 or 5 and scale back\n",
        "        uv = scaler.inverse_transform(uv)\n",
        "        uv[uv > 5] = 5\n",
        "        uv[uv < 1 ] = 1\n",
        "        uv = scaler.transform(uv)\n",
        "        \n",
        "        # Calculate RMSE and append to list\n",
        "        dif_squared_0 = np.nan_to_num(np.square(np.subtract(uv, M)))\n",
        "        dif_squared_total_sum = np.sum(dif_squared_0)\n",
        "        N_non_0 = np.count_nonzero(dif_squared_0)\n",
        "        RME = np.divide(dif_squared_total_sum, N_non_0)\n",
        "        RMSE = np.sqrt(RME)\n",
        "        halt = np.abs(RMSE - RME_old) > Threshold\n",
        "        l_RMSE_loop.append(RMSE)\n",
        "\n",
        "        # Calculate MAE and append to list\n",
        "        dif_abs = np.nan_to_num(np.abs(np.subtract(uv, M)))\n",
        "        dif_abs_sum = np.sum(dif_abs)\n",
        "        N_non_0_abs = np.count_nonzero(dif_abs)\n",
        "        MAE = np.divide(dif_abs_sum, N_non_0_abs)\n",
        "        l_MAE_loop.append(MAE)\n",
        "\n",
        "    # Print results of each kfold iteration\n",
        "    print(f'fold {n_iter}; RMSE = {RMSE}')\n",
        "    print(f'fold {n_iter}; MAE = {MAE}')\n",
        "    rme_list.append(RMSE)\n",
        "    MAE_list.append(MAE)\n",
        "    uv_final = scaler.inverse_transform(uv)\n",
        "    ax1.plot(range(n_loop), l_RMSE_loop, label = f'Iteration Kfold: {n_iter}')\n",
        "    ax2.plot(range(n_loop), l_MAE_loop, label = f'Iteration Kfold: {n_iter}')\n",
        "\n",
        "# Summarize final stats and create plots\n",
        "rme_list_mean = np.mean(rme_list)\n",
        "MAE_list_mean = np.mean(MAE_list)\n",
        "print(f'Average RMSE over {n_iter} folds = {rme_list_mean}')\n",
        "print(f'Average MAE over {n_iter} folds = {MAE_list_mean}')\n",
        "plt.suptitle(\"UV Matrix decomposition\")\n",
        "plt.xlabel(\"Number of loops\")\n",
        "ax1.set_ylabel(\"RMSE\")\n",
        "ax1.legend()\n",
        "ax2.set_ylabel(\"MAE\")\n",
        "ax2.legend()\n",
        "plt.savefig(\"Figure.png\")\n",
        "plt.show()\n",
        "ende = time.time()\n",
        "print('Total runtime = ', (ende - start))"
      ]
    },
    {
      "cell_type": "markdown",
      "metadata": {
        "id": "oG4tDgDQNFBz"
      },
      "source": [
        "# Task 1.3 - Matrix Factorization"
      ]
    },
    {
      "cell_type": "code",
      "execution_count": null,
      "metadata": {
        "id": "KRqKhtwwdWTz"
      },
      "outputs": [],
      "source": [
        "\n",
        "\n",
        "\n",
        "def MatrixFactorization(data, num_factors, num_iter, regularization, learn_rate, num_folds):\n",
        "    start = time.time()\n",
        "    \n",
        "    \n",
        "    # Cross validation\n",
        "    \n",
        "    # percentage train data (5 fold = 80% train data)\n",
        "    num_folds = num_folds\n",
        "    \n",
        "    # Create RMSE for train and test for every fold\n",
        "    RMSE_fold_train = [0] * num_folds\n",
        "    RMSE_fold_test = [0] * num_folds\n",
        "    MAE_fold_train = [0] * num_folds\n",
        "    MAE_fold_test = [0] * num_folds\n",
        "\n",
        "\n",
        "    sequence_of_data = [x % num_folds for x in range(len(data))]\n",
        "    np.random.shuffle(sequence_of_data)\n",
        "    data_matrix = data.pivot(index='UserID',    columns='MovieID',    values='Ratings').fillna(0)\n",
        "    data_matrix = np.asarray(data_matrix)\n",
        "\n",
        "    for fold in range(num_folds):\n",
        "        \n",
        "        train_index = np.array([x != fold for x in sequence_of_data])\n",
        "        test_index = np.array([x == fold for x in sequence_of_data])\n",
        "        train = data[train_index]\n",
        "        test = data[test_index]\n",
        "                \n",
        "        # make an array of the data\n",
        "        #train_array = np.array(train)\n",
        "        #test_array = np.array(test)\n",
        "        train_matrix = train.pivot(index='UserID',    columns='MovieID',    values='Ratings').fillna(0)\n",
        "        test_matrix = test.pivot(index='UserID',    columns='MovieID',    values='Ratings').fillna(0)\n",
        "        train = np.asarray(train)\n",
        "        test = np.asarray(test)\n",
        "        train_matrix = np.asarray(train_matrix)\n",
        "        test_matrix = np.asarray(test_matrix)\n",
        "        \n",
        "        # Specifiy the I and J for the matrices \n",
        "        I = data_matrix.shape[0]\n",
        "        J = data_matrix.shape[1]\n",
        "        K = num_factors\n",
        "        \n",
        "        # Initialize random weights\n",
        "        U = np.random.rand(I, K)\n",
        "        M = np.random.rand(K, J)\n",
        "                \n",
        "        # Create empty list for train and test\n",
        "        RMSE_list_train = []\n",
        "        RMSE_list_test = []\n",
        "        MAE_list_train = []\n",
        "        MAE_list_test = []\n",
        "        \n",
        "        for iter in range(num_iter):\n",
        "            e_ij2 = 0\n",
        "            e_ij2_test = 0\n",
        "            abs_e_ij2 = 0\n",
        "            abs_e_ij2_test = 0\n",
        "            # if the value in the matrix is higher than 0, for every i and j\n",
        "            for i in range(len(train_matrix)):\n",
        "                for j in range(train_matrix.shape[1]):\n",
        "                    if train_matrix[i][j]>0:\n",
        "                      \n",
        "                      # calculate the prediction with the intiliazed weights\n",
        "                        pred = np.dot(U[i,:], M[:,j])\n",
        "\n",
        "                        # Keep ratings between 1 and 5\n",
        "                        if pred < 1:\n",
        "                            pred = 1\n",
        "                        elif pred > 5:\n",
        "                            pred = 5\n",
        "\n",
        "                        # Calculate the error \n",
        "                        e_ij = train_matrix[i][j] - pred\n",
        "                        e_ij2 += (e_ij)**2\n",
        "                        abs_e_ij2 += np.abs(e_ij)\n",
        "\n",
        "\n",
        "                        #Update the weights\n",
        "                        for k in range(num_factors):\n",
        "                            grad_eij_u = -2 * e_ij * M[k][j]\n",
        "                            grad_eij_m = -2 * e_ij * U[i][k]\n",
        "\n",
        "                            U[i][k] = U[i][k] + learn_rate * ( - grad_eij_u - regularization * U[i][k] )\n",
        "                            M[k][j] = M[k][j] + learn_rate * ( - grad_eij_m - regularization * M[k][j] )\n",
        "\n",
        "\n",
        "            # N: the number of known values in the Matrix\n",
        "            N = np.count_nonzero(train_matrix)\n",
        "            RMSE_iter_train = np.sqrt(e_ij2 / N)\n",
        "            print('Train RMSE:', {RMSE_iter_train})\n",
        "            MAE_iter_train = np.sqrt(abs_e_ij2/N)\n",
        "            print('Train MAE:', {MAE_iter_train})\n",
        "\n",
        "            RMSE_list_train.append(RMSE_iter_train)\n",
        "            MAE_list_train.append(MAE_iter_train)\n",
        "\n",
        "            \n",
        "\n",
        "            \n",
        "            # if the value in the matrix is higher than 0, for every i and j Test\n",
        "            for i in range(len(test_matrix)):\n",
        "                for j in range(test_matrix.shape[1]):\n",
        "                    if test_matrix[i][j]>0:\n",
        "                        # calculate the prediction with the weights Test\n",
        "                        pred = np.dot(U[i,:], M[:,j])\n",
        "\n",
        "                        # Keep ratings between 1 and 5\n",
        "                        if pred < 1:\n",
        "                            pred = 1\n",
        "                        elif pred > 5:\n",
        "                            pred = 5\n",
        "\n",
        "                        # Calculate the error Test\n",
        "                        e_ij_test = test_matrix[i][j] - pred\n",
        "                        e_ij2_test += (e_ij_test)**2\n",
        "                        abs_e_ij2_test += np.abs(e_ij_test)\n",
        "                            \n",
        "            # N: the number of known values in the Matrix\n",
        "            N_test = np.count_nonzero(test_matrix)\n",
        "            RMSE_iter_test = np.sqrt(e_ij2_test / N_test)\n",
        "            MAE_iter_test = np.sqrt(abs_e_ij2_test/N_test)\n",
        "            print('Test RMSE:', {RMSE_iter_test})\n",
        "            print('Test MAE:', {MAE_iter_test})\n",
        "\n",
        "            RMSE_list_test.append(RMSE_iter_test)\n",
        "            MAE_list_test.append(MAE_iter_test)\n",
        "            \n",
        "            # Only continue if the new RMSE is better than the previous RMSE\n",
        "            if len(RMSE_list_train) >= 2 or len(RMSE_list_train) >= 2:\n",
        "                if RMSE_list_train[-2] <= RMSE_list_train[-1]:\n",
        "                    break\n",
        "                elif RMSE_list_test[-2] <= RMSE_list_test[-1]:\n",
        "                    break\n",
        "        \n",
        "            \n",
        "        RMSE_fold_train[fold] = RMSE_list_train[-1]\n",
        "        RMSE_fold_test[fold] = RMSE_list_test[-1]\n",
        "        MAE_fold_train[fold] = MAE_list_train[-1]\n",
        "        MAE_fold_test[fold] = MAE_list_test[-1]\n",
        "\n",
        "\n",
        "        print('List RMSE train fold:', RMSE_fold_train)\n",
        "        print('List RMSE test fold:',RMSE_fold_test)\n",
        "        print('List MAE train fold:',MAE_fold_train)\n",
        "        print('List MAE test fold:',MAE_fold_test)\n",
        "        \n",
        "    print('List RMSE train average over folds:', np.mean(RMSE_fold_train))\n",
        "    print('List RMSE test average over folds:',np.mean(RMSE_fold_test))\n",
        "    print('List MAE train average over folds:',np.mean(MAE_fold_train))\n",
        "    print('List MAE test average over folds:',np.mean(MAE_fold_test))\n",
        "    \n",
        "    end = time.time()\n",
        "    print('Total runtime = ', (end - start))\n",
        "    return U, M"
      ]
    },
    {
      "cell_type": "code",
      "execution_count": null,
      "metadata": {
        "colab": {
          "base_uri": "https://localhost:8080/"
        },
        "id": "0wGQK0_UdZGs",
        "outputId": "78023886-8f2e-4f61-9fb1-55e903bb2497"
      },
      "outputs": [
        {
          "output_type": "stream",
          "name": "stdout",
          "text": [
            "Train RMSE: {0.9894672620439152}\n",
            "Train MAE: {0.8875949645370108}\n",
            "Test RMSE: {1.3391849143728503}\n",
            "Test MAE: {1.0417030307954747}\n",
            "Train RMSE: {0.9244729836517905}\n",
            "Train MAE: {0.855091983099799}\n",
            "Test RMSE: {1.3303845029477117}\n",
            "Test MAE: {1.0407627503904322}\n",
            "Train RMSE: {0.9141270079044284}\n",
            "Train MAE: {0.8505508703227754}\n",
            "Test RMSE: {1.3282400537386756}\n",
            "Test MAE: {1.0396830372341999}\n",
            "Train RMSE: {0.908572019210516}\n",
            "Train MAE: {0.8479926656595218}\n",
            "Test RMSE: {1.3278869718319641}\n",
            "Test MAE: {1.0390611909739205}\n",
            "Train RMSE: {0.9018264834853097}\n",
            "Train MAE: {0.8448006588361568}\n",
            "Test RMSE: {1.3286035397335192}\n",
            "Test MAE: {1.0389785328197554}\n",
            "List RMSE train fold: [0.9018264834853097, 0, 0, 0, 0]\n",
            "List RMSE test fold: [1.3286035397335192, 0, 0, 0, 0]\n",
            "List MAE train fold: [0.8448006588361568, 0, 0, 0, 0]\n",
            "List MAE test fold: [1.0389785328197554, 0, 0, 0, 0]\n",
            "Train RMSE: {0.9892615116796855}\n",
            "Train MAE: {0.8877320617054213}\n",
            "Test RMSE: {1.2871083593645565}\n",
            "Test MAE: {1.0192746762842309}\n",
            "Train RMSE: {0.9239122875191437}\n",
            "Train MAE: {0.8547299188023573}\n",
            "Test RMSE: {1.2796067041895383}\n",
            "Test MAE: {1.0202304980942292}\n",
            "Train RMSE: {0.9137146384899845}\n",
            "Train MAE: {0.8502964348779839}\n",
            "Test RMSE: {1.276303633974736}\n",
            "Test MAE: {1.0186893241812118}\n",
            "Train RMSE: {0.9083377967834455}\n",
            "Train MAE: {0.8478037438232956}\n",
            "Test RMSE: {1.2745507349623721}\n",
            "Test MAE: {1.0174994027801112}\n",
            "Train RMSE: {0.9018227670721639}\n",
            "Train MAE: {0.844689444362057}\n",
            "Test RMSE: {1.2746189267762946}\n",
            "Test MAE: {1.0170819687313606}\n",
            "List RMSE train fold: [0.9018264834853097, 0.9018227670721639, 0, 0, 0]\n",
            "List RMSE test fold: [1.3286035397335192, 1.2746189267762946, 0, 0, 0]\n",
            "List MAE train fold: [0.8448006588361568, 0.844689444362057, 0, 0, 0]\n",
            "List MAE test fold: [1.0389785328197554, 1.0170819687313606, 0, 0, 0]\n",
            "Train RMSE: {0.9894382777080445}\n",
            "Train MAE: {0.8875727222327541}\n",
            "Test RMSE: {1.2914767176088005}\n",
            "Test MAE: {1.0211438584977421}\n",
            "Train RMSE: {0.9247264791701936}\n",
            "Train MAE: {0.8552269064032618}\n",
            "Test RMSE: {1.2832540987913783}\n",
            "Test MAE: {1.0215246024002023}\n",
            "Train RMSE: {0.9145955920459039}\n",
            "Train MAE: {0.8507604370868008}\n",
            "Test RMSE: {1.2798928545893256}\n",
            "Test MAE: {1.0197709189581543}\n",
            "Train RMSE: {0.9093255649194083}\n",
            "Train MAE: {0.8483067979752498}\n",
            "Test RMSE: {1.2780890852658642}\n",
            "Test MAE: {1.0184330021995107}\n",
            "Train RMSE: {0.9029888369885254}\n",
            "Train MAE: {0.8452772121043343}\n",
            "Test RMSE: {1.277935682561502}\n",
            "Test MAE: {1.0178662441698543}\n",
            "Train RMSE: {0.894681933761818}\n",
            "Train MAE: {0.8412374078971216}\n",
            "Test RMSE: {1.2790731690010546}\n",
            "Test MAE: {1.0178934945953386}\n",
            "List RMSE train fold: [0.9018264834853097, 0.9018227670721639, 0.894681933761818, 0, 0]\n",
            "List RMSE test fold: [1.3286035397335192, 1.2746189267762946, 1.2790731690010546, 0, 0]\n",
            "List MAE train fold: [0.8448006588361568, 0.844689444362057, 0.8412374078971216, 0, 0]\n",
            "List MAE test fold: [1.0389785328197554, 1.0170819687313606, 1.0178934945953386, 0, 0]\n",
            "Train RMSE: {0.9897045970385402}\n",
            "Train MAE: {0.8877530331661263}\n",
            "Test RMSE: {1.353190332919082}\n",
            "Test MAE: {1.0476234074308106}\n",
            "Train RMSE: {0.9244790189641533}\n",
            "Train MAE: {0.8550395111305736}\n",
            "Test RMSE: {1.3415483994609823}\n",
            "Test MAE: {1.0457604643092466}\n",
            "Train RMSE: {0.914270198315421}\n",
            "Train MAE: {0.8505248449437686}\n",
            "Test RMSE: {1.3375829041886689}\n",
            "Test MAE: {1.0439309158529868}\n",
            "Train RMSE: {0.9094117732699822}\n",
            "Train MAE: {0.848289437160322}\n",
            "Test RMSE: {1.3358163038759419}\n",
            "Test MAE: {1.042796332984771}\n",
            "Train RMSE: {0.903962739468733}\n",
            "Train MAE: {0.845719445982337}\n",
            "Test RMSE: {1.3352788986892186}\n",
            "Test MAE: {1.0422611632836023}\n",
            "Train RMSE: {0.8965572425981996}\n",
            "Train MAE: {0.8421620250983324}\n",
            "Test RMSE: {1.3354916170912117}\n",
            "Test MAE: {1.042095621811466}\n",
            "List RMSE train fold: [0.9018264834853097, 0.9018227670721639, 0.894681933761818, 0.8965572425981996, 0]\n",
            "List RMSE test fold: [1.3286035397335192, 1.2746189267762946, 1.2790731690010546, 1.3354916170912117, 0]\n",
            "List MAE train fold: [0.8448006588361568, 0.844689444362057, 0.8412374078971216, 0.8421620250983324, 0]\n",
            "List MAE test fold: [1.0389785328197554, 1.0170819687313606, 1.0178934945953386, 1.042095621811466, 0]\n",
            "Train RMSE: {0.9891040206943814}\n",
            "Train MAE: {0.887394455062259}\n",
            "Test RMSE: {1.3498103574946745}\n",
            "Test MAE: {1.0453655384685816}\n",
            "Train RMSE: {0.9241449266650281}\n",
            "Train MAE: {0.8549435903217333}\n",
            "Test RMSE: {1.339881587222821}\n",
            "Test MAE: {1.0439225783854136}\n",
            "Train RMSE: {0.9144357768089947}\n",
            "Train MAE: {0.8506670327386873}\n",
            "Test RMSE: {1.3365949321120774}\n",
            "Test MAE: {1.0425801837060849}\n",
            "Train RMSE: {0.9102532202294216}\n",
            "Train MAE: {0.8487389896180023}\n",
            "Test RMSE: {1.335243962223506}\n",
            "Test MAE: {1.041693420415802}\n",
            "Train RMSE: {0.9062219449327684}\n",
            "Train MAE: {0.8468336609353052}\n",
            "Test RMSE: {1.3348652468579802}\n",
            "Test MAE: {1.0412392604999872}\n",
            "Train RMSE: {0.901061436340614}\n",
            "Train MAE: {0.8443583171941196}\n",
            "Test RMSE: {1.3349811032756238}\n",
            "Test MAE: {1.040989335529288}\n",
            "List RMSE train fold: [0.9018264834853097, 0.9018227670721639, 0.894681933761818, 0.8965572425981996, 0.901061436340614]\n",
            "List RMSE test fold: [1.3286035397335192, 1.2746189267762946, 1.2790731690010546, 1.3354916170912117, 1.3349811032756238]\n",
            "List MAE train fold: [0.8448006588361568, 0.844689444362057, 0.8412374078971216, 0.8421620250983324, 0.8443583171941196]\n",
            "List MAE test fold: [1.0389785328197554, 1.0170819687313606, 1.0178934945953386, 1.042095621811466, 1.040989335529288]\n",
            "List RMSE train average over folds: 0.8991899726516209\n",
            "List RMSE test average over folds: 1.3105536711755406\n",
            "List MAE train average over folds: 0.8434495706775575\n",
            "List MAE test average over folds: 1.031407790697442\n",
            "Total runtime =  2112.8612945079803\n"
          ]
        },
        {
          "output_type": "execute_result",
          "data": {
            "text/plain": [
              "(array([[0.27622676, 0.39552885, 0.99448094, ..., 0.91788872, 0.296852  ,\n",
              "         0.36362695],\n",
              "        [0.37518397, 0.48302718, 0.33916604, ..., 0.67601689, 0.84799373,\n",
              "         0.88441672],\n",
              "        [0.55351533, 0.81033752, 0.59466846, ..., 0.69230784, 0.29221977,\n",
              "         0.57197859],\n",
              "        ...,\n",
              "        [0.17021586, 0.60183176, 0.66820459, ..., 0.94837288, 0.41419559,\n",
              "         0.25188205],\n",
              "        [0.83085445, 0.27953943, 0.44943221, ..., 0.55042074, 0.42048368,\n",
              "         0.6309695 ],\n",
              "        [0.6922269 , 0.18485851, 0.72635442, ..., 0.42562766, 0.85070567,\n",
              "         0.21859602]]),\n",
              " array([[0.72615115, 0.64560252, 0.52830012, ..., 0.33906815, 0.20029138,\n",
              "         0.0031049 ],\n",
              "        [0.84463282, 0.51316129, 0.66858667, ..., 0.01243517, 0.72859083,\n",
              "         0.78086475],\n",
              "        [0.72370951, 0.46565335, 0.55312215, ..., 0.61168912, 0.68084409,\n",
              "         0.05093988],\n",
              "        ...,\n",
              "        [0.7203731 , 0.59437689, 0.62502664, ..., 0.35935173, 0.92575971,\n",
              "         0.4660372 ],\n",
              "        [0.73502847, 0.24269081, 0.25560701, ..., 0.04902011, 0.63265336,\n",
              "         0.72960115],\n",
              "        [0.36248298, 0.79633972, 0.65408375, ..., 0.69378117, 0.20577234,\n",
              "         0.09635716]]))"
            ]
          },
          "metadata": {},
          "execution_count": 12
        }
      ],
      "source": [
        "nU, nM = MatrixFactorization(dataset, num_factors=10, num_iter=75, regularization=0.05, learn_rate=0.005, num_folds = 5)\n",
        "nU, nM"
      ]
    },
    {
      "cell_type": "code",
      "execution_count": null,
      "metadata": {
        "colab": {
          "base_uri": "https://localhost:8080/"
        },
        "id": "6K1MOAyEOTNc",
        "outputId": "d0f5c7d8-aedc-47cc-b18f-f759230a3136"
      },
      "outputs": [
        {
          "output_type": "execute_result",
          "data": {
            "text/plain": [
              "array([[4.24539181, 3.39089687, 2.94274632, ..., 2.00717544, 4.25218181,\n",
              "        2.41992202],\n",
              "       [3.68452099, 2.96518659, 2.60612279, ..., 1.76420998, 3.15970766,\n",
              "        2.44786765],\n",
              "       [4.36718762, 3.49463951, 3.16066478, ..., 2.21020208, 3.76204481,\n",
              "        2.8342062 ],\n",
              "       ...,\n",
              "       [4.0043966 , 3.01270271, 2.78670111, ..., 1.96401138, 3.72611663,\n",
              "        2.76496634],\n",
              "       [4.00490564, 3.26168165, 2.77181764, ..., 2.09660685, 3.27266224,\n",
              "        2.31745337],\n",
              "       [4.04174353, 3.03395036, 2.65875133, ..., 1.95709866, 3.7587383 ,\n",
              "        2.26177498]])"
            ]
          },
          "metadata": {},
          "execution_count": 13
        }
      ],
      "source": [
        "nR = np.dot(nU,nM)\n",
        "nR"
      ]
    },
    {
      "cell_type": "code",
      "source": [
        "nM"
      ],
      "metadata": {
        "colab": {
          "base_uri": "https://localhost:8080/"
        },
        "id": "xrQitBmuMxJL",
        "outputId": "44bc1e05-eaac-4992-af4e-19aa680c51af"
      },
      "execution_count": null,
      "outputs": [
        {
          "output_type": "execute_result",
          "data": {
            "text/plain": [
              "array([[0.72615115, 0.64560252, 0.52830012, ..., 0.33906815, 0.20029138,\n",
              "        0.0031049 ],\n",
              "       [0.84463282, 0.51316129, 0.66858667, ..., 0.01243517, 0.72859083,\n",
              "        0.78086475],\n",
              "       [0.72370951, 0.46565335, 0.55312215, ..., 0.61168912, 0.68084409,\n",
              "        0.05093988],\n",
              "       ...,\n",
              "       [0.7203731 , 0.59437689, 0.62502664, ..., 0.35935173, 0.92575971,\n",
              "        0.4660372 ],\n",
              "       [0.73502847, 0.24269081, 0.25560701, ..., 0.04902011, 0.63265336,\n",
              "        0.72960115],\n",
              "       [0.36248298, 0.79633972, 0.65408375, ..., 0.69378117, 0.20577234,\n",
              "        0.09635716]])"
            ]
          },
          "metadata": {},
          "execution_count": 20
        }
      ]
    },
    {
      "cell_type": "code",
      "execution_count": null,
      "metadata": {
        "id": "klHWdsOql7lr"
      },
      "outputs": [],
      "source": [
        "pd.DataFrame(nU).to_csv('Usermatrix.csv')  \n",
        "pd.DataFrame(nM).to_csv('Moviematrix.csv')  \n",
        "#pd.DataFrame(nR).to_csv('total_matrix.csv')  "
      ]
    }
  ],
  "metadata": {
    "colab": {
      "collapsed_sections": [],
      "provenance": []
    },
    "kernelspec": {
      "display_name": "Python 3",
      "name": "python3"
    },
    "language_info": {
      "name": "python"
    }
  },
  "nbformat": 4,
  "nbformat_minor": 0
}
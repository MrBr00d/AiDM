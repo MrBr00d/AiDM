{
 "cells": [
  {
   "cell_type": "markdown",
   "metadata": {
    "id": "OJFSpyBroCPL"
   },
   "source": [
    "<center>\n",
    "<h1>Assignment 1 : Reccommender Systems</h1>\n",
    "<h3>Part 1 - Python Notebook </h3>\n",
    "Duijn, Nicolette, s3026752<br>\n",
    "Elangovan, Abhiram, s3442403 <br>\n",
    "van Vliet, Nick, s3442403\n",
    "</center>"
   ]
  },
  {
   "cell_type": "code",
   "execution_count": 1,
   "metadata": {
    "colab": {
     "base_uri": "https://localhost:8080/"
    },
    "id": "tsLWLY1DKILx",
    "outputId": "f12a61af-95f5-4332-f593-4c9db2559c01"
   },
   "outputs": [],
   "source": [
    "import pandas as pd\n",
    "import numpy as np\n",
    "from sklearn.model_selection import KFold \n",
    "import math\n",
    "from sklearn.metrics import mean_absolute_error as mae\n",
    "from sklearn import linear_model\n",
    "from sklearn.metrics import mean_squared_error\n",
    "import time\n",
    "import matplotlib.pyplot as plt\n",
    "from sklearn.preprocessing import StandardScaler\n",
    "\n",
    "#!pip install sweetviz\n",
    "#import sweetviz as sv"
   ]
  },
  {
   "cell_type": "code",
   "execution_count": 2,
   "metadata": {
    "id": "MPWGr9FpVh3h"
   },
   "outputs": [],
   "source": [
    "# Reading dataset\n",
    "dataset = pd.read_table('ratings.dat', header = None, sep = '::', engine = 'python', usecols = [0,1,2], names = ('UserID','MovieID', 'Ratings'))\n",
    "\n",
    "#eda = sv.analyze(dataset)\n",
    "#eda.show_html()"
   ]
  },
  {
   "cell_type": "markdown",
   "metadata": {
    "id": "N4HXxrX6mlhT"
   },
   "source": [
    "# Task 1.1 Naive Approaches"
   ]
  },
  {
   "cell_type": "code",
   "execution_count": 3,
   "metadata": {
    "id": "ujnzRwdJmqAZ"
   },
   "outputs": [],
   "source": [
    "# Make the cross validation\n",
    "\n",
    "n_splits = 5\n",
    "KF = KFold(n_splits=n_splits, random_state=123, shuffle=True)\n",
    "\n",
    "# Create Lists \n",
    "GlobalAvergage_RMSE, UserAverage_RMSE, MovieAverage_RMSE, LinReg_RMSE, LinRegInter_RMSE = list(),list(),list(),list(),list()\n",
    "GlobalAvergage_MAE, UserAverage_MAE, MovieAverage_MAE, LinReg_MAE, LinRegInter_MAE = list(),list(),list(),list(),list()\n",
    "\n",
    "GlobalAvergage_RMSE_test, UserAverage_RMSE_test, MovieAverage_RMSE_test, LinReg_RMSE_test, LinRegInter_RMSE_test = list(),list(),list(),list(),list()\n",
    "GlobalAvergage_MAE_test, UserAverage_MAE_test, MovieAverage_MAE_test, LinReg_MAE_test, LinRegInter_MAE_test = list(),list(),list(),list(),list()"
   ]
  },
  {
   "cell_type": "code",
   "execution_count": 4,
   "metadata": {
    "colab": {
     "base_uri": "https://localhost:8080/"
    },
    "id": "CcYa3NROgeDW",
    "outputId": "ba97048b-afa0-4df8-b83a-a25531c05b02"
   },
   "outputs": [
    {
     "name": "stdout",
     "output_type": "stream",
     "text": [
      "Total runtime: 0.5993967056274414 s\n"
     ]
    }
   ],
   "source": [
    "# Naive Approach - Global Average\n",
    "\n",
    "start = time.time()\n",
    "\n",
    "for train, test in KF.split(dataset):\n",
    "    #Define X and y in train and test\n",
    "    X_train, X_test = dataset.iloc[train, 0:2], dataset.iloc[test, 0:2]\n",
    "    y_train, y_test = dataset.iloc[train, -1], dataset.iloc[test, -1]\n",
    "    \n",
    "    # Models\n",
    "    GlobalAvergage = y_train.mean()\n",
    "\n",
    "    # Predictions \n",
    "    pred_GlobalAvergage = [GlobalAvergage] * len(X_train) \n",
    "    pred_GlobalAvergage_test = [GlobalAvergage] * len(X_test)\n",
    "   \n",
    "    #RMSE's \n",
    "    RMSE_GlobalAvergage = math.sqrt(mean_squared_error(pred_GlobalAvergage,y_train))\n",
    "    RMSE_GlobalAvergage_test = math.sqrt(mean_squared_error(pred_GlobalAvergage_test,y_test))\n",
    "\n",
    "    GlobalAvergage_RMSE.append(RMSE_GlobalAvergage)\n",
    "    GlobalAvergage_RMSE_test.append(RMSE_GlobalAvergage_test)\n",
    "\n",
    " \n",
    "    # MAE's \n",
    "    MAE_GlobalAvergage = mae(pred_GlobalAvergage, y_train)\n",
    "    MAE_GlobalAvergage_test = mae(pred_GlobalAvergage_test, y_test)\n",
    "\n",
    "    \n",
    "    GlobalAvergage_MAE.append(MAE_GlobalAvergage)\n",
    "    GlobalAvergage_MAE_test.append(MAE_GlobalAvergage_test)\n",
    "    \n",
    "end = time.time()\n",
    "tot_time = np.subtract(end, start)\n",
    "print(f'Total runtime: {tot_time} s')    "
   ]
  },
  {
   "cell_type": "code",
   "execution_count": 5,
   "metadata": {
    "id": "K6hQXcsSnNqa"
   },
   "outputs": [],
   "source": [
    "def User(Train, Test):\n",
    "    predicted = list()\n",
    "    user_dict = {}\n",
    "    Global_mean = Train['Ratings'].mean()\n",
    "    avg_user = Train.groupby(\"UserID\").mean()['Ratings']\n",
    "    keys = avg_user.index.values\n",
    "    for i in keys:\n",
    "        user_dict[i] = avg_user[i]\n",
    "    \n",
    "    for u, m, r in np.array(Test):\n",
    "        if u in user_dict:\n",
    "            predicted.append(user_dict[u])\n",
    "        else:\n",
    "            predicted.append(Global_mean)\n",
    "    \n",
    "    return(predicted)\n",
    "\n",
    "def Movie(Train, Test):\n",
    "    predicted = list()\n",
    "    movie_dict = {}\n",
    "    Global_mean = Train['Ratings'].mean()\n",
    "    avg_movie = Train.groupby(\"MovieID\").mean()['Ratings']\n",
    "    keys = avg_movie.index.values\n",
    "    for i in keys:\n",
    "        movie_dict[i] = avg_movie[i]\n",
    "    \n",
    "    for u, m, r in np.array(Test):\n",
    "        if m in movie_dict:\n",
    "            predicted.append(movie_dict[m])\n",
    "        else:\n",
    "            predicted.append(Global_mean)\n",
    "    return(predicted)"
   ]
  },
  {
   "cell_type": "code",
   "execution_count": 6,
   "metadata": {
    "colab": {
     "base_uri": "https://localhost:8080/"
    },
    "id": "QdvN0oTKu1Up",
    "outputId": "8899b407-7b9d-417c-8d74-775b54b7039d"
   },
   "outputs": [
    {
     "name": "stdout",
     "output_type": "stream",
     "text": [
      "Total runtime: 4.753164768218994 s\n"
     ]
    }
   ],
   "source": [
    "# Naive Approach - User Average\n",
    "\n",
    "\n",
    "start = time.time()\n",
    "\n",
    "for train_indexes, test_indexes in KF.split(dataset):\n",
    "    #Define train and test\n",
    "    Train_set = dataset.iloc[train_indexes]\n",
    "    Test_set = dataset.iloc[test_indexes]\n",
    "    \n",
    "    predicted_train = User(Train_set, Train_set)\n",
    "    predicted_test = User(Train_set, Test_set)\n",
    "    \n",
    "    UserAverage_RMSE.append(np.sqrt(np.divide(np.sum(np.square(np.subtract(Train_set.iloc[:,2], predicted_train))), len(Train_set))))\n",
    "    UserAverage_RMSE_test.append(np.sqrt(np.divide(np.sum(np.square(np.subtract(Test_set.iloc[:,2], predicted_test))), len(Test_set))))\n",
    "    UserAverage_MAE.append(np.divide(np.sum(np.abs(np.subtract(Train_set.iloc[:,2], predicted_train))), len(Train_set)))\n",
    "    UserAverage_MAE_test.append(np.divide(np.sum(np.abs(np.subtract(Test_set.iloc[:,2], predicted_test))), len(Test_set)))\n",
    "end = time.time()\n",
    "tot_time = np.subtract(end, start)\n",
    "print(f'Total runtime: {tot_time} s')"
   ]
  },
  {
   "cell_type": "code",
   "execution_count": 10,
   "metadata": {
    "colab": {
     "base_uri": "https://localhost:8080/"
    },
    "id": "spDwgg2jiIL5",
    "outputId": "4bc2a0c6-4be3-4b3a-e0b0-9462572d6147"
   },
   "outputs": [
    {
     "name": "stdout",
     "output_type": "stream",
     "text": [
      "Total runtime: 4.811105489730835 s\n"
     ]
    }
   ],
   "source": [
    "# Naive Approach - Movie Average\n",
    "\n",
    "\n",
    "start = time.time()\n",
    "for train_indexes, test_indexes in KF.split(dataset):\n",
    "    #Define train and test\n",
    "    Train_set = dataset.iloc[train_indexes]\n",
    "    Test_set = dataset.iloc[test_indexes]\n",
    "    \n",
    "    predicted_train = Movie(Train_set, Train_set)\n",
    "    predicted_test = Movie(Train_set, Test_set)\n",
    "    \n",
    "    MovieAverage_RMSE.append(np.sqrt(np.divide(np.sum(np.square(np.subtract(Train_set.iloc[:,2], predicted_train))), len(Train_set))))\n",
    "    MovieAverage_RMSE_test.append(np.sqrt(np.divide(np.sum(np.square(np.subtract(Test_set.iloc[:,2], predicted_test))), len(Test_set))))\n",
    "    MovieAverage_MAE.append(np.divide(np.sum(np.abs(np.subtract(Train_set.iloc[:,2], predicted_train))), len(Train_set)))\n",
    "    MovieAverage_MAE_test.append(np.divide(np.sum(np.abs(np.subtract(Test_set.iloc[:,2], predicted_test))), len(Test_set)))\n",
    "\n",
    "end = time.time()\n",
    "tot_time = np.subtract(end, start)\n",
    "print(f'Total runtime: {tot_time} s')"
   ]
  },
  {
   "cell_type": "code",
   "execution_count": 11,
   "metadata": {
    "colab": {
     "base_uri": "https://localhost:8080/"
    },
    "id": "Ih-LPcocu5I5",
    "outputId": "80698eda-e7c2-4b56-f58e-53a59eec3114"
   },
   "outputs": [
    {
     "name": "stdout",
     "output_type": "stream",
     "text": [
      "Total runtime: 1.2436778545379639 s\n"
     ]
    }
   ],
   "source": [
    "# Naive Approach - Linear Regression\n",
    "\n",
    "\n",
    "start = time.time()\n",
    "\n",
    "\n",
    "for train, test in KF.split(dataset):\n",
    "    #Define X and y in train and test\n",
    "    X_train, X_test = dataset.iloc[train, 0:2], dataset.iloc[test, 0:2]\n",
    "    y_train, y_test = dataset.iloc[train, -1], dataset.iloc[test, -1]\n",
    "    \n",
    "    # Models\n",
    "    UserAverage = dataset.iloc[train]\n",
    "    MovieAverage = dataset.iloc[train]\n",
    "    \n",
    "    UserAverage_test = dataset.iloc[test]\n",
    "    MovieAverage_test = dataset.iloc[test]\n",
    "    \n",
    "    # Create dataframe for Linear Regression\n",
    "    UserAverage = UserAverage['Ratings'].groupby(UserAverage['UserID'], group_keys=False).transform('mean') \n",
    "    MovieAverage = MovieAverage['Ratings'].groupby(MovieAverage['MovieID'], group_keys=False).transform('mean')\n",
    "    X_lr = pd.DataFrame(columns = ['UserAverage', 'MovieAverage'])\n",
    "    X_lr['UserAverage'] = UserAverage\n",
    "    X_lr['MovieAverage'] = MovieAverage       \n",
    "    modelLinReg = linear_model.LinearRegression(fit_intercept=False).fit(X_lr,y_train)\n",
    "    \n",
    "    UserAverage_test = UserAverage_test['Ratings'].groupby(UserAverage_test['UserID'], group_keys=False).transform('mean') \n",
    "    MovieAverage_test = MovieAverage_test['Ratings'].groupby(MovieAverage_test['MovieID'], group_keys=False).transform('mean')\n",
    "    X_lr_test = pd.DataFrame(columns = ['UserAverage', 'MovieAverage'])\n",
    "    X_lr_test['UserAverage'] = UserAverage_test\n",
    "    X_lr_test['MovieAverage'] = MovieAverage_test           \n",
    "    \n",
    "    # Predictions \n",
    "    pred_LinReg = modelLinReg.predict(X_lr)\n",
    "    pred_LinReg_test = modelLinReg.predict(X_lr_test)\n",
    "    \n",
    "    #RMSE's \n",
    "    RMSE_LinReg = math.sqrt(mean_squared_error(pred_LinReg,y_train))\n",
    "    RMSE_LinReg_test = math.sqrt(mean_squared_error(pred_LinReg_test,y_test))\n",
    "    \n",
    "    LinReg_RMSE.append(RMSE_LinReg)\n",
    "    LinReg_RMSE_test.append(RMSE_LinReg_test)\n",
    "    \n",
    "    # MAE's \n",
    "    MAE_LinReg = mae(pred_LinReg, np.asarray(y_train))\n",
    "    MAE_LinReg_test = mae(pred_LinReg_test, y_test)\n",
    "\n",
    "    LinReg_MAE.append(MAE_LinReg)\n",
    "    LinReg_MAE_test.append(MAE_LinReg_test)\n",
    "    \n",
    "\n",
    "end = time.time()\n",
    "tot_time = np.subtract(end, start)\n",
    "print(f'Total runtime: {tot_time} s')"
   ]
  },
  {
   "cell_type": "code",
   "execution_count": 12,
   "metadata": {
    "colab": {
     "base_uri": "https://localhost:8080/"
    },
    "id": "nVm5MaGDu6w5",
    "outputId": "8c059d23-a0e2-4668-e5d1-cf6cd546fbcb"
   },
   "outputs": [
    {
     "name": "stdout",
     "output_type": "stream",
     "text": [
      "Total runtime: 1.2865254878997803 s\n"
     ]
    }
   ],
   "source": [
    "# Naive Approach - Linear Regression with Intercept\n",
    "\n",
    "\n",
    "start = time.time()\n",
    "\n",
    "\n",
    "for train, test in KF.split(dataset):\n",
    "    #Define X and y in train and test\n",
    "    X_train, X_test = dataset.iloc[train, 0:2], dataset.iloc[test, 0:2]\n",
    "    y_train, y_test = dataset.iloc[train, -1], dataset.iloc[test, -1]\n",
    "    \n",
    "    # Models\n",
    "    UserAverage = dataset.iloc[train]\n",
    "    MovieAverage = dataset.iloc[train]\n",
    "    \n",
    "    UserAverage_test = dataset.iloc[test]\n",
    "    MovieAverage_test = dataset.iloc[test]\n",
    "    \n",
    "    # Create dataframe for Linear Regression\n",
    "    UserAverage = UserAverage['Ratings'].groupby(UserAverage['UserID'], group_keys=False).transform('mean') \n",
    "    MovieAverage = MovieAverage['Ratings'].groupby(MovieAverage['MovieID'], group_keys=False).transform('mean')\n",
    "    X_lr_inter = pd.DataFrame(columns = ['UserAverage', 'MovieAverage'])\n",
    "    X_lr_inter['UserAverage'] = UserAverage\n",
    "    X_lr_inter['MovieAverage'] = MovieAverage       \n",
    "    modelLinRegInter = linear_model.LinearRegression(fit_intercept=True).fit(X_lr_inter,y_train)\n",
    "    \n",
    "    UserAverage_test = UserAverage_test['Ratings'].groupby(UserAverage_test['UserID'], group_keys=False).transform('mean') \n",
    "    MovieAverage_test = MovieAverage_test['Ratings'].groupby(MovieAverage_test['MovieID'], group_keys=False).transform('mean')\n",
    "    X_lr_test_inter = pd.DataFrame(columns = ['UserAverage', 'MovieAverage'])\n",
    "    X_lr_test_inter['UserAverage'] = UserAverage_test\n",
    "    X_lr_test_inter['MovieAverage'] = MovieAverage_test       \n",
    "    \n",
    "    # Predictions \n",
    "    pred_LinRegInter = modelLinRegInter.predict(X_lr_inter)\n",
    "    pred_LinRegInter_test = modelLinRegInter.predict(X_lr_test_inter)\n",
    "    \n",
    "    #RMSE's \n",
    "    RMSE_LinRegInter = math.sqrt(mean_squared_error(pred_LinRegInter,y_train))\n",
    "    RMSE_LinRegInter_test = math.sqrt(mean_squared_error(pred_LinRegInter_test,y_test))\n",
    "    \n",
    "    LinRegInter_RMSE.append(RMSE_LinRegInter)\n",
    "    LinRegInter_RMSE_test.append(RMSE_LinRegInter_test)\n",
    "    \n",
    "    # MAE's \n",
    "    MAE_LinRegInter = mae(pred_LinRegInter, y_train)\n",
    "    MAE_LinRegInter_test = mae(pred_LinRegInter_test, y_test)\n",
    "\n",
    "    LinRegInter_MAE.append(MAE_LinRegInter)\n",
    "    LinRegInter_MAE_test.append(MAE_LinRegInter_test)\n",
    "        \n",
    "\n",
    "end = time.time()\n",
    "tot_time = np.subtract(end, start)\n",
    "print(f'Total runtime: {tot_time} s')"
   ]
  },
  {
   "cell_type": "code",
   "execution_count": 13,
   "metadata": {
    "id": "e6dXVK_UGpGZ"
   },
   "outputs": [],
   "source": [
    "Average_RMSE_GlobalAvergage = np.mean(GlobalAvergage_RMSE)\n",
    "Average_MAE_GlobalAvergage =  np.mean(GlobalAvergage_MAE)\n",
    "\n",
    "Average_RMSE_UserAverage = np.mean(UserAverage_RMSE)\n",
    "Average_MAE_UserAverage =  np.mean(UserAverage_MAE)\n",
    "\n",
    "Average_RMSE_MovieAverage = np.mean(MovieAverage_RMSE)\n",
    "Average_MAE_MovieAverage = np.mean(MovieAverage_MAE)\n",
    "\n",
    "Average_RMSE_LinReg = np.mean(LinReg_RMSE)\n",
    "Average_MAE_LinReg = np.mean(LinReg_MAE)\n",
    "\n",
    "Average_RMSE_LinRegInter = np.mean(LinRegInter_RMSE)\n",
    "Average_MAE_LinRegInter = np.mean(LinRegInter_MAE)"
   ]
  },
  {
   "cell_type": "code",
   "execution_count": 14,
   "metadata": {
    "colab": {
     "base_uri": "https://localhost:8080/"
    },
    "id": "mbp7yTMju-rK",
    "outputId": "9b942669-2d38-41db-bd09-9b924a8c1a58"
   },
   "outputs": [
    {
     "name": "stdout",
     "output_type": "stream",
     "text": [
      "Global Average on the Train set the mean RMSE                   = 1.1171012202724344; the mean MAE = 0.9338608368374448\n",
      "User Average on the Train set the mean RMSE                     = 1.0276690855268948; the mean MAE = 0.8227249188594131\n",
      "Movie Average on the Train set the mean RMSE                    = 0.9742247376329038; the mean MAE = 0.7783327744410679\n",
      "Linear Regression on the Train set the mean RMSE                = 0.9465615551888543; the mean MAE = 0.758553381146454\n",
      "Linear Regression with intercept on the Train set the mean RMSE = 0.9146271443996492; the mean MAE = 0.7250569615019543\n"
     ]
    }
   ],
   "source": [
    "print(f'Global Average on the Train set the mean RMSE                   = {Average_RMSE_GlobalAvergage}; the mean MAE = {Average_MAE_GlobalAvergage}')\n",
    "print(f'User Average on the Train set the mean RMSE                     = {Average_RMSE_UserAverage}; the mean MAE = {Average_MAE_UserAverage}')\n",
    "print(f'Movie Average on the Train set the mean RMSE                    = {Average_RMSE_MovieAverage}; the mean MAE = {Average_MAE_MovieAverage}')\n",
    "print(f'Linear Regression on the Train set the mean RMSE                = {Average_RMSE_LinReg}; the mean MAE = {Average_MAE_LinReg}')\n",
    "print(f'Linear Regression with intercept on the Train set the mean RMSE = {Average_RMSE_LinRegInter}; the mean MAE = {Average_MAE_LinRegInter}')"
   ]
  },
  {
   "cell_type": "code",
   "execution_count": 15,
   "metadata": {
    "id": "r5SLjzrNKf0h"
   },
   "outputs": [],
   "source": [
    "Average_RMSE_GlobalAvergage_test = np.mean(GlobalAvergage_RMSE_test)\n",
    "Average_MAE_GlobalAvergage_test =  np.mean(GlobalAvergage_MAE_test)\n",
    "\n",
    "Average_RMSE_UserAverage_test = np.mean(UserAverage_RMSE_test)\n",
    "Average_MAE_UserAverage_test =  np.mean(UserAverage_MAE_test)\n",
    "\n",
    "Average_RMSE_MovieAverage_test = np.mean(MovieAverage_RMSE_test)\n",
    "Average_MAE_MovieAverage_test = np.mean(MovieAverage_MAE_test)\n",
    "\n",
    "Average_RMSE_LinReg_test = np.mean(LinReg_RMSE_test)\n",
    "Average_MAE_LinReg_test = np.mean(LinReg_MAE_test)\n",
    "\n",
    "Average_RMSE_LinRegInter_test = np.mean(LinRegInter_RMSE_test)\n",
    "Average_MAE_LinRegInter_test = np.mean(LinRegInter_MAE_test)"
   ]
  },
  {
   "cell_type": "code",
   "execution_count": 16,
   "metadata": {
    "colab": {
     "base_uri": "https://localhost:8080/"
    },
    "id": "swZgcZ0_vGWm",
    "outputId": "aae254dd-fa3c-495c-e06f-dd0d2aa9a64f"
   },
   "outputs": [
    {
     "name": "stdout",
     "output_type": "stream",
     "text": [
      "Global Average on the Test set the mean RMSE                   = 1.117100689212873; the mean MAE = 0.9338609691154162\n",
      "User Average on the Test set the mean RMSE                     = 1.03551276240495; the mean MAE = 0.8290272360320732\n",
      "Movie Average on the Test set the mean RMSE                    = 0.9794113512327757; the mean MAE = 0.7822917257566733\n",
      "Linear Regression on the Test set the mean RMSE                = 0.9346334215146609; the mean MAE = 0.7487582102802455\n",
      "Linear Regression with intercept on the Test set the mean RMSE = 0.9005467579253942; the mean MAE = 0.713092075924075\n"
     ]
    }
   ],
   "source": [
    "print(f'Global Average on the Test set the mean RMSE                   = {Average_RMSE_GlobalAvergage_test}; the mean MAE = {Average_MAE_GlobalAvergage_test}')\n",
    "print(f'User Average on the Test set the mean RMSE                     = {Average_RMSE_UserAverage_test}; the mean MAE = {Average_MAE_UserAverage_test}')\n",
    "print(f'Movie Average on the Test set the mean RMSE                    = {Average_RMSE_MovieAverage_test}; the mean MAE = {Average_MAE_MovieAverage_test}')\n",
    "print(f'Linear Regression on the Test set the mean RMSE                = {Average_RMSE_LinReg_test}; the mean MAE = {Average_MAE_LinReg_test}')\n",
    "print(f'Linear Regression with intercept on the Test set the mean RMSE = {Average_RMSE_LinRegInter_test}; the mean MAE = {Average_MAE_LinRegInter_test}')"
   ]
  },
  {
   "cell_type": "markdown",
   "metadata": {
    "id": "CQT8cckeKgGG"
   },
   "source": [
    "# Task 1.2 UV Matrix Decomposition\n"
   ]
  },
  {
   "cell_type": "code",
   "execution_count": null,
   "metadata": {
    "id": "Uxc3jYCkKjFg"
   },
   "outputs": [],
   "source": [
    "dataset_task2 = dataset.pivot(\n",
    "    index='UserID',\n",
    "    columns='MovieID',\n",
    "    values='Ratings'\n",
    ")"
   ]
  },
  {
   "cell_type": "code",
   "execution_count": null,
   "metadata": {
    "id": "rVKBQUNQNErq"
   },
   "outputs": [],
   "source": [
    "\n",
    "start = time.time()\n",
    "\n",
    "# Initialize parameters\n",
    "fig, (ax1, ax2) = plt.subplots(2)\n",
    "n_iter = 0\n",
    "rme_list = list()\n",
    "MAE_list = list()\n",
    "n_splits = 5\n",
    "Threshold = 0.0001\n",
    "np.random.seed(123)\n",
    "rand_seeds = np.random.randint(10, size = 5)\n",
    "\n",
    "# Cross validation \n",
    "KF = KFold(n_splits=5, random_state=123, shuffle=True)\n",
    "\n",
    "# Kfold loop (5 datasets)\n",
    "for Train, Test in KF.split(dataset):\n",
    "    dataset_2_Train, dataset_2_Test = dataset.loc[Train], dataset.loc[Test]\n",
    "\n",
    "    start_local = time.time()\n",
    "    # Pivot Dataset and scale the dataset\n",
    "    dataset_split = dataset_2_Train.pivot(\n",
    "    index='UserID',\n",
    "    columns='MovieID',\n",
    "    values='Ratings'\n",
    "    )\n",
    "    scaler = StandardScaler(with_std=False)\n",
    "    dataset_split = scaler.fit_transform(dataset_split)\n",
    "    dataset_split = pd.DataFrame(dataset_split)\n",
    "\n",
    "    #Set random seeds\n",
    "    np.random.seed(rand_seeds[n_iter])\n",
    "    #Create Init matrices\n",
    "    M = dataset_split.to_numpy()\n",
    "    d = 2\n",
    "    n = dataset_split.shape[0]\n",
    "    m = dataset_split.shape[1]\n",
    "    a = dataset_split.stack().mean()\n",
    "    U = np.empty([n,d])\n",
    "    V = np.empty([d,m])\n",
    "    V = np.random.randn(d, m) # random numbers to increase chance of reachine global minimum\n",
    "    U = np.random.randn(n, d)\n",
    "    uv = np.matmul(U,V)\n",
    "\n",
    "    # Create Init KFold dependant parameters\n",
    "    halt = True\n",
    "    n_iter += 1\n",
    "    n_loop = 1\n",
    "    l_RMSE_loop = list()\n",
    "    l_MAE_loop = list()\n",
    "\n",
    "    # Calculate initial RMSE\n",
    "    dif_squared_0 = np.nan_to_num(np.square(np.subtract(uv, M)))\n",
    "    dif_squared_total_sum = np.sum(dif_squared_0)\n",
    "    N_non_0 = np.count_nonzero(dif_squared_0)\n",
    "    RME = np.divide(dif_squared_total_sum, N_non_0)\n",
    "    RMSE = np.sqrt(RME)\n",
    "    l_RMSE_loop.append(RMSE)\n",
    "\n",
    "    # Calculate initial MAE\n",
    "    dif_abs = np.nan_to_num(np.abs(np.subtract(uv, M)))\n",
    "    dif_abs_sum = np.sum(dif_abs)\n",
    "    N_non_0_abs = np.count_nonzero(dif_abs)\n",
    "    MAE = np.divide(dif_abs_sum, N_non_0_abs)\n",
    "    l_MAE_loop.append(MAE)\n",
    "\n",
    "    # Iterate as long as change of RMSE is bigger than threshold\n",
    "    while halt:\n",
    "        RME_old = RMSE\n",
    "        n_loop+=1\n",
    "\n",
    "        #Update U matrix\n",
    "        for r in range(U.shape[0]):\n",
    "            numerator = 0\n",
    "            denominator = 0\n",
    "\n",
    "            for s in range(d):\n",
    "                U_rk = U[r,:]\n",
    "                U_rk = np.delete(U_rk, s, 0)\n",
    "                V_kj = np.delete(V, s, 0)\n",
    "                V_sj = V[s,:]\n",
    "                P = np.matmul(U_rk, V_kj)\n",
    "                m_rj = M[r,:]\n",
    "                numerator = np.multiply(V_sj,(np.subtract(m_rj, P)))\n",
    "                numerator = np.nansum(np.multiply(numerator, (np.isfinite(m_rj))))\n",
    "                denominator = np.square(V_sj)\n",
    "                denominator = np.nansum(np.multiply(denominator, (np.isfinite(m_rj))))\n",
    "                new_var = np.divide(numerator, denominator)\n",
    "                U[r,s] = new_var\n",
    "\n",
    "        #update V matrix\n",
    "        for r in range(d):\n",
    "            for s in range(V.shape[1]):\n",
    "                V_ks = V[:,s]\n",
    "                V_ks = np.delete(V_ks, r, 0)\n",
    "                U_ik = np.delete(U, r, 1)\n",
    "                U_ir = U[:,r]\n",
    "                P = np.matmul(U_ik, V_ks)\n",
    "                m_is = M[:,s]\n",
    "                numerator = np.multiply(U_ir, (np.subtract(m_is, P)))\n",
    "                numerator = np.nansum(np.multiply(numerator, (np.isfinite(m_is))))\n",
    "                denominator = np.square(U_ir)\n",
    "                denominator = np.nansum(np.multiply(denominator, (np.isfinite(m_is))))\n",
    "                newvar = np.divide(numerator, denominator)\n",
    "                V[r,s] = newvar\n",
    "\n",
    "        # Matrix multiplication and comparison to original matrix M + calc MSE\n",
    "        uv = np.matmul(U,V)\n",
    "\n",
    "        # Scale back to original matrix, check if values are 1 < value < 5\n",
    "        # Set values outside range to 1 or 5 and scale back\n",
    "        uv = scaler.inverse_transform(uv)\n",
    "        uv[uv > 5] = 5\n",
    "        uv[uv < 1 ] = 1\n",
    "        uv = scaler.transform(uv)\n",
    "        \n",
    "        # Calculate RMSE and append to list\n",
    "        dif_squared_0 = np.nan_to_num(np.square(np.subtract(uv, M)))\n",
    "        dif_squared_total_sum = np.sum(dif_squared_0)\n",
    "        N_non_0 = np.count_nonzero(dif_squared_0)\n",
    "        RME = np.divide(dif_squared_total_sum, N_non_0)\n",
    "        RMSE = np.sqrt(RME)\n",
    "        halt = np.abs(RMSE - RME_old) > Threshold\n",
    "        l_RMSE_loop.append(RMSE)\n",
    "\n",
    "        # Calculate MAE and append to list\n",
    "        dif_abs = np.nan_to_num(np.abs(np.subtract(uv, M)))\n",
    "        dif_abs_sum = np.sum(dif_abs)\n",
    "        N_non_0_abs = np.count_nonzero(dif_abs)\n",
    "        MAE = np.divide(dif_abs_sum, N_non_0_abs)\n",
    "        l_MAE_loop.append(MAE)\n",
    "\n",
    "    # Print results of each kfold iteration\n",
    "    end_local = time.time()\n",
    "    print(f'fold {n_iter}; RMSE = {RMSE}')\n",
    "    print(f'fold {n_iter}; MAE = {MAE}')\n",
    "    print('fold', n_iter, '; runtime = ', (end_local-start_local))\n",
    "    rme_list.append(RMSE)\n",
    "    MAE_list.append(MAE)\n",
    "    uv_final = scaler.inverse_transform(uv)\n",
    "    ax1.plot(range(n_loop), l_RMSE_loop, label = f'Iteration Kfold: {n_iter}')\n",
    "    ax2.plot(range(n_loop), l_MAE_loop, label = f'Iteration Kfold: {n_iter}')\n",
    "\n",
    "# Summarize final stats and create plots\n",
    "rme_list_mean = np.mean(rme_list)\n",
    "MAE_list_mean = np.mean(MAE_list)\n",
    "print(f'Average RMSE over {n_iter} folds = {rme_list_mean}')\n",
    "print(f'Average MAE over {n_iter} folds = {MAE_list_mean}')\n",
    "plt.suptitle(\"UV Matrix decomposition\")\n",
    "plt.xlabel(\"Number of loops\")\n",
    "ax1.set_ylabel(\"RMSE\")\n",
    "ax1.legend()\n",
    "ax2.set_ylabel(\"MAE\")\n",
    "ax2.legend()\n",
    "plt.savefig(\"Figure.png\")\n",
    "plt.show()\n",
    "ende = time.time()\n",
    "print('Total runtime = ', (ende - start))"
   ]
  },
  {
   "cell_type": "markdown",
   "metadata": {
    "id": "oG4tDgDQNFBz"
   },
   "source": [
    "# Task 1.3 - Matrix Factorization"
   ]
  },
  {
   "cell_type": "code",
   "execution_count": 21,
   "metadata": {
    "id": "KRqKhtwwdWTz"
   },
   "outputs": [],
   "source": [
    "\n",
    "\n",
    "\n",
    "def MatrixFactorization(data, num_factors, num_iter, regularization, learn_rate, num_folds):\n",
    "    start = time.time()\n",
    "    \n",
    "    \n",
    "    # Cross validation\n",
    "    \n",
    "    # percentage train data (5 fold = 80% train data)\n",
    "    num_folds = num_folds\n",
    "    \n",
    "    # Create RMSE for train and test for every fold\n",
    "    RMSE_fold_train = [0] * num_folds\n",
    "    RMSE_fold_test = [0] * num_folds\n",
    "    MAE_fold_train = [0] * num_folds\n",
    "    MAE_fold_test = [0] * num_folds\n",
    "\n",
    "\n",
    "    sequence_of_data = [x % num_folds for x in range(len(data))]\n",
    "    np.random.shuffle(sequence_of_data)\n",
    "    data_matrix = data.pivot(index='UserID',    columns='MovieID',    values='Ratings').fillna(0)\n",
    "    data_matrix = np.asarray(data_matrix)\n",
    "\n",
    "    for fold in range(num_folds):\n",
    "        start_local = time.time()\n",
    "        \n",
    "        train_index = np.array([x != fold for x in sequence_of_data])\n",
    "        test_index = np.array([x == fold for x in sequence_of_data])\n",
    "        train = data[train_index]\n",
    "        test = data[test_index]\n",
    "                \n",
    "        # make an array of the data\n",
    "        #train_array = np.array(train)\n",
    "        #test_array = np.array(test)\n",
    "        train_matrix = train.pivot(index='UserID',    columns='MovieID',    values='Ratings').fillna(0)\n",
    "        test_matrix = test.pivot(index='UserID',    columns='MovieID',    values='Ratings').fillna(0)\n",
    "        train = np.asarray(train)\n",
    "        test = np.asarray(test)\n",
    "        train_matrix = np.asarray(train_matrix)\n",
    "        test_matrix = np.asarray(test_matrix)\n",
    "        \n",
    "        # Specifiy the I and J for the matrices \n",
    "        I = data_matrix.shape[0]\n",
    "        J = data_matrix.shape[1]\n",
    "        K = num_factors\n",
    "        \n",
    "        # Initialize random weights\n",
    "        U = np.random.rand(I, K)\n",
    "        M = np.random.rand(K, J)\n",
    "                \n",
    "        # Create empty list for train and test\n",
    "        RMSE_list_train = []\n",
    "        RMSE_list_test = []\n",
    "        MAE_list_train = []\n",
    "        MAE_list_test = []\n",
    "        \n",
    "        for iter in range(num_iter):\n",
    "            e_ij2 = 0\n",
    "            e_ij2_test = 0\n",
    "            abs_e_ij2 = 0\n",
    "            abs_e_ij2_test = 0\n",
    "            # if the value in the matrix is higher than 0, for every i and j\n",
    "            for i in range(len(train_matrix)):\n",
    "                for j in range(train_matrix.shape[1]):\n",
    "                    if train_matrix[i][j]>0:\n",
    "                      \n",
    "                      # calculate the prediction with the intiliazed weights\n",
    "                        pred = np.dot(U[i,:], M[:,j])\n",
    "\n",
    "                        # Keep ratings between 1 and 5\n",
    "                        if pred < 1:\n",
    "                            pred = 1\n",
    "                        elif pred > 5:\n",
    "                            pred = 5\n",
    "\n",
    "                        # Calculate the error \n",
    "                        e_ij = train_matrix[i][j] - pred\n",
    "                        e_ij2 += (e_ij)**2\n",
    "                        abs_e_ij2 += np.abs(e_ij)\n",
    "\n",
    "\n",
    "                        #Update the weights\n",
    "                        for k in range(num_factors):\n",
    "                            grad_eij_u = -2 * e_ij * M[k][j]\n",
    "                            grad_eij_m = -2 * e_ij * U[i][k]\n",
    "\n",
    "                            U[i][k] = U[i][k] + learn_rate * ( - grad_eij_u - regularization * U[i][k] )\n",
    "                            M[k][j] = M[k][j] + learn_rate * ( - grad_eij_m - regularization * M[k][j] )\n",
    "\n",
    "\n",
    "            # N: the number of known values in the Matrix\n",
    "            N = np.count_nonzero(train_matrix)\n",
    "            RMSE_iter_train = np.sqrt(e_ij2 / N)\n",
    "            print('Train RMSE:', {RMSE_iter_train})\n",
    "            MAE_iter_train = np.sqrt(abs_e_ij2/N)\n",
    "            print('Train MAE:', {MAE_iter_train})\n",
    "\n",
    "            RMSE_list_train.append(RMSE_iter_train)\n",
    "            MAE_list_train.append(MAE_iter_train)\n",
    "\n",
    "            \n",
    "\n",
    "            \n",
    "            # if the value in the matrix is higher than 0, for every i and j Test\n",
    "            for i in range(len(test_matrix)):\n",
    "                for j in range(test_matrix.shape[1]):\n",
    "                    if test_matrix[i][j]>0:\n",
    "                        # calculate the prediction with the weights Test\n",
    "                        pred = np.dot(U[i,:], M[:,j])\n",
    "\n",
    "                        # Keep ratings between 1 and 5\n",
    "                        if pred < 1:\n",
    "                            pred = 1\n",
    "                        elif pred > 5:\n",
    "                            pred = 5\n",
    "\n",
    "                        # Calculate the error Test\n",
    "                        e_ij_test = test_matrix[i][j] - pred\n",
    "                        e_ij2_test += (e_ij_test)**2\n",
    "                        abs_e_ij2_test += np.abs(e_ij_test)\n",
    "                            \n",
    "            # N: the number of known values in the Matrix\n",
    "            N_test = np.count_nonzero(test_matrix)\n",
    "            RMSE_iter_test = np.sqrt(e_ij2_test / N_test)\n",
    "            MAE_iter_test = np.sqrt(abs_e_ij2_test/N_test)\n",
    "            print('Test RMSE:', {RMSE_iter_test})\n",
    "            print('Test MAE:', {MAE_iter_test})\n",
    "\n",
    "            RMSE_list_test.append(RMSE_iter_test)\n",
    "            MAE_list_test.append(MAE_iter_test)\n",
    "            \n",
    "            # Only continue if the new RMSE is better than the previous RMSE\n",
    "            if len(RMSE_list_train) >= 2 or len(RMSE_list_train) >= 2:\n",
    "                if RMSE_list_train[-2] <= RMSE_list_train[-1]:\n",
    "                    break\n",
    "                elif RMSE_list_test[-2] <= RMSE_list_test[-1]:\n",
    "                    break\n",
    "        \n",
    "            \n",
    "        RMSE_fold_train[fold] = RMSE_list_train[-1]\n",
    "        RMSE_fold_test[fold] = RMSE_list_test[-1]\n",
    "        MAE_fold_train[fold] = MAE_list_train[-1]\n",
    "        MAE_fold_test[fold] = MAE_list_test[-1]\n",
    "\n",
    "\n",
    "        print('List RMSE train fold:', RMSE_fold_train)\n",
    "        print('List RMSE test fold:',RMSE_fold_test)\n",
    "        print('List MAE train fold:',MAE_fold_train)\n",
    "        print('List MAE test fold:',MAE_fold_test)\n",
    "        end_local = time.time()\n",
    "        print('iter time: ', (end_local - start_local))\n",
    "        \n",
    "    print('List RMSE train average over folds:', np.mean(RMSE_fold_train))\n",
    "    print('List RMSE test average over folds:',np.mean(RMSE_fold_test))\n",
    "    print('List MAE train average over folds:',np.mean(MAE_fold_train))\n",
    "    print('List MAE test average over folds:',np.mean(MAE_fold_test))\n",
    "    \n",
    "    end = time.time()\n",
    "    print('Total runtime = ', (end - start))\n",
    "    return U, M"
   ]
  },
  {
   "cell_type": "code",
   "execution_count": 22,
   "metadata": {
    "colab": {
     "base_uri": "https://localhost:8080/"
    },
    "id": "0wGQK0_UdZGs",
    "outputId": "78023886-8f2e-4f61-9fb1-55e903bb2497"
   },
   "outputs": [
    {
     "name": "stdout",
     "output_type": "stream",
     "text": [
      "Train RMSE: {0.9915435733299518}\n",
      "Train MAE: {0.8883904229043805}\n",
      "Test RMSE: {1.338836945856958}\n",
      "Test MAE: {1.0423791928958652}\n",
      "Train RMSE: {0.9248333550111637}\n",
      "Train MAE: {0.855288543754858}\n",
      "Test RMSE: {1.3304852334786768}\n",
      "Test MAE: {1.0414886090869586}\n",
      "Train RMSE: {0.9148630064554439}\n",
      "Train MAE: {0.8508690175850805}\n",
      "Test RMSE: {1.3294232078187662}\n",
      "Test MAE: {1.0407065545595826}\n",
      "Train RMSE: {0.910113640200606}\n",
      "Train MAE: {0.848667114149881}\n",
      "Test RMSE: {1.3294547158947827}\n",
      "Test MAE: {1.0402109733298908}\n",
      "List RMSE train fold: [0.910113640200606, 0, 0, 0, 0]\n",
      "List RMSE test fold: [1.3294547158947827, 0, 0, 0, 0]\n",
      "List MAE train fold: [0.848667114149881, 0, 0, 0, 0]\n",
      "List MAE test fold: [1.0402109733298908, 0, 0, 0, 0]\n",
      "iter time:  127.09138226509094\n",
      "Train RMSE: {0.9899695609707742}\n",
      "Train MAE: {0.8877722598744728}\n",
      "Test RMSE: {1.3579619398603187}\n",
      "Test MAE: {1.049612012214779}\n",
      "Train RMSE: {0.9247609043984334}\n",
      "Train MAE: {0.8552555357503556}\n",
      "Test RMSE: {1.350034179139087}\n",
      "Test MAE: {1.0490874236803207}\n",
      "Train RMSE: {0.914654457580783}\n",
      "Train MAE: {0.8508374818844302}\n",
      "Test RMSE: {1.3477815407493514}\n",
      "Test MAE: {1.0478979424903032}\n",
      "Train RMSE: {0.9100133283605548}\n",
      "Train MAE: {0.8487013041120997}\n",
      "Test RMSE: {1.3468747666841443}\n",
      "Test MAE: {1.047163497164293}\n",
      "Train RMSE: {0.9049837024774556}\n",
      "Train MAE: {0.8463307095236198}\n",
      "Test RMSE: {1.3468270720779116}\n",
      "Test MAE: {1.0469094575830777}\n",
      "Train RMSE: {0.8980562063526256}\n",
      "Train MAE: {0.8430240376706695}\n",
      "Test RMSE: {1.3473209828008015}\n",
      "Test MAE: {1.0469405064285398}\n",
      "List RMSE train fold: [0.910113640200606, 0.8980562063526256, 0, 0, 0]\n",
      "List RMSE test fold: [1.3294547158947827, 1.3473209828008015, 0, 0, 0]\n",
      "List MAE train fold: [0.848667114149881, 0.8430240376706695, 0, 0, 0]\n",
      "List MAE test fold: [1.0402109733298908, 1.0469405064285398, 0, 0, 0]\n",
      "iter time:  192.33482956886292\n",
      "Train RMSE: {0.9893911070075385}\n",
      "Train MAE: {0.887749481599505}\n",
      "Test RMSE: {1.322862923390629}\n",
      "Test MAE: {1.0337996678673718}\n",
      "Train RMSE: {0.924349780796611}\n",
      "Train MAE: {0.8551148367699699}\n",
      "Test RMSE: {1.3090008818352215}\n",
      "Test MAE: {1.0313112078201043}\n",
      "Train RMSE: {0.9143022649374167}\n",
      "Train MAE: {0.8507300086957272}\n",
      "Test RMSE: {1.304251432165447}\n",
      "Test MAE: {1.0291358880039871}\n",
      "Train RMSE: {0.9097866892079496}\n",
      "Train MAE: {0.8486428453720318}\n",
      "Test RMSE: {1.302085421597468}\n",
      "Test MAE: {1.027835182810465}\n",
      "Train RMSE: {0.9050517504273516}\n",
      "Train MAE: {0.8464005842910012}\n",
      "Test RMSE: {1.301470311572453}\n",
      "Test MAE: {1.0272740111540315}\n",
      "Train RMSE: {0.8986079920400926}\n",
      "Train MAE: {0.8433012842858575}\n",
      "Test RMSE: {1.3017450405907258}\n",
      "Test MAE: {1.027102741535818}\n",
      "List RMSE train fold: [0.910113640200606, 0.8980562063526256, 0.8986079920400926, 0, 0]\n",
      "List RMSE test fold: [1.3294547158947827, 1.3473209828008015, 1.3017450405907258, 0, 0]\n",
      "List MAE train fold: [0.848667114149881, 0.8430240376706695, 0.8433012842858575, 0, 0]\n",
      "List MAE test fold: [1.0402109733298908, 1.0469405064285398, 1.027102741535818, 0, 0]\n",
      "iter time:  192.17962002754211\n",
      "Train RMSE: {0.9899536616499421}\n",
      "Train MAE: {0.8879315263615211}\n",
      "Test RMSE: {1.3438842670165942}\n",
      "Test MAE: {1.0436617195131996}\n",
      "Train RMSE: {0.9248673051384928}\n",
      "Train MAE: {0.8553029012285676}\n",
      "Test RMSE: {1.3299871093548106}\n",
      "Test MAE: {1.0410731999569727}\n",
      "Train RMSE: {0.9148344638025491}\n",
      "Train MAE: {0.850929385086571}\n",
      "Test RMSE: {1.3270515135641179}\n",
      "Test MAE: {1.039794453069546}\n",
      "Train RMSE: {0.9104392741082091}\n",
      "Train MAE: {0.8489171916781871}\n",
      "Test RMSE: {1.3261033226551495}\n",
      "Test MAE: {1.038960612475501}\n",
      "Train RMSE: {0.9059582520255949}\n",
      "Train MAE: {0.8468123000769567}\n",
      "Test RMSE: {1.3259462823372807}\n",
      "Test MAE: {1.038554498333434}\n",
      "Train RMSE: {0.8997856811123585}\n",
      "Train MAE: {0.8438681365854934}\n",
      "Test RMSE: {1.326151716130456}\n",
      "Test MAE: {1.0383901200679793}\n",
      "List RMSE train fold: [0.910113640200606, 0.8980562063526256, 0.8986079920400926, 0.8997856811123585, 0]\n",
      "List RMSE test fold: [1.3294547158947827, 1.3473209828008015, 1.3017450405907258, 1.326151716130456, 0]\n",
      "List MAE train fold: [0.848667114149881, 0.8430240376706695, 0.8433012842858575, 0.8438681365854934, 0]\n",
      "List MAE test fold: [1.0402109733298908, 1.0469405064285398, 1.027102741535818, 1.0383901200679793, 0]\n",
      "iter time:  191.79017567634583\n",
      "Train RMSE: {0.9886461965211364}\n",
      "Train MAE: {0.8870096492305911}\n",
      "Test RMSE: {1.3726679627469225}\n",
      "Test MAE: {1.055354801215506}\n",
      "Train RMSE: {0.9237820278226253}\n",
      "Train MAE: {0.8545147415978075}\n",
      "Test RMSE: {1.3603799086238293}\n",
      "Test MAE: {1.0530188165978454}\n",
      "Train RMSE: {0.9138098110132225}\n",
      "Train MAE: {0.8501935790400119}\n",
      "Test RMSE: {1.3578843059336798}\n",
      "Test MAE: {1.0518799762696494}\n",
      "Train RMSE: {0.9090202917921152}\n",
      "Train MAE: {0.8479853813325842}\n",
      "Test RMSE: {1.3570043942462577}\n",
      "Test MAE: {1.0510804754388248}\n",
      "Train RMSE: {0.9035614362230696}\n",
      "Train MAE: {0.8453886228798541}\n",
      "Test RMSE: {1.3569517957527983}\n",
      "Test MAE: {1.050698923163444}\n",
      "Train RMSE: {0.8960683338263002}\n",
      "Train MAE: {0.8417471079558264}\n",
      "Test RMSE: {1.3574670599468308}\n",
      "Test MAE: {1.0506144848169792}\n",
      "List RMSE train fold: [0.910113640200606, 0.8980562063526256, 0.8986079920400926, 0.8997856811123585, 0.8960683338263002]\n",
      "List RMSE test fold: [1.3294547158947827, 1.3473209828008015, 1.3017450405907258, 1.326151716130456, 1.3574670599468308]\n",
      "List MAE train fold: [0.848667114149881, 0.8430240376706695, 0.8433012842858575, 0.8438681365854934, 0.8417471079558264]\n",
      "List MAE test fold: [1.0402109733298908, 1.0469405064285398, 1.027102741535818, 1.0383901200679793, 1.0506144848169792]\n",
      "iter time:  193.98051142692566\n",
      "List RMSE train average over folds: 0.9005263707063966\n",
      "List RMSE test average over folds: 1.3324279030727193\n",
      "List MAE train average over folds: 0.8441215361295455\n",
      "List MAE test average over folds: 1.0406517652358414\n",
      "Total runtime =  897.7914090156555\n"
     ]
    },
    {
     "data": {
      "text/plain": [
       "(array([[0.42003102, 0.10617977, 0.94339166, ..., 0.3476118 , 0.93933   ,\n",
       "         0.86894866],\n",
       "        [0.72986328, 0.46063994, 0.6813315 , ..., 0.43275536, 0.45437982,\n",
       "         0.50678922],\n",
       "        [0.35615158, 0.70455072, 0.33935662, ..., 0.30364886, 0.79158291,\n",
       "         0.68913409],\n",
       "        ...,\n",
       "        [0.52553694, 0.75454011, 0.60910616, ..., 0.45877862, 0.52132771,\n",
       "         0.35373423],\n",
       "        [0.79788442, 0.81074753, 0.54297693, ..., 0.37089762, 0.75366426,\n",
       "         0.40864825],\n",
       "        [0.29337146, 0.52727026, 0.28332051, ..., 0.49927521, 0.83716131,\n",
       "         0.73524041]]),\n",
       " array([[0.96145772, 0.34275003, 0.25942709, ..., 0.39203461, 0.96544835,\n",
       "         0.24496022],\n",
       "        [0.45559929, 0.50229948, 0.50308743, ..., 0.50810929, 0.45399633,\n",
       "         0.17505867],\n",
       "        [0.69249096, 0.70429529, 0.28155033, ..., 0.20614615, 0.15699857,\n",
       "         0.69630004],\n",
       "        ...,\n",
       "        [0.6958677 , 0.53813473, 0.46121569, ..., 0.02329751, 0.38825781,\n",
       "         0.07324789],\n",
       "        [0.78065869, 0.68601017, 0.39584055, ..., 0.6931007 , 0.02594227,\n",
       "         0.41042572],\n",
       "        [0.7902615 , 0.51081449, 0.3264688 , ..., 0.25020812, 0.634792  ,\n",
       "         0.95595909]]))"
      ]
     },
     "execution_count": 22,
     "metadata": {},
     "output_type": "execute_result"
    }
   ],
   "source": [
    "nU, nM = MatrixFactorization(dataset, num_factors=10, num_iter=75, regularization=0.05, learn_rate=0.005, num_folds = 5)\n",
    "nU, nM"
   ]
  },
  {
   "cell_type": "code",
   "execution_count": null,
   "metadata": {
    "colab": {
     "base_uri": "https://localhost:8080/"
    },
    "id": "6K1MOAyEOTNc",
    "outputId": "d0f5c7d8-aedc-47cc-b18f-f759230a3136"
   },
   "outputs": [],
   "source": [
    "nR = np.dot(nU,nM)\n",
    "nR"
   ]
  },
  {
   "cell_type": "code",
   "execution_count": null,
   "metadata": {
    "colab": {
     "base_uri": "https://localhost:8080/"
    },
    "id": "xrQitBmuMxJL",
    "outputId": "44bc1e05-eaac-4992-af4e-19aa680c51af"
   },
   "outputs": [],
   "source": [
    "nM"
   ]
  },
  {
   "cell_type": "code",
   "execution_count": null,
   "metadata": {
    "id": "klHWdsOql7lr"
   },
   "outputs": [],
   "source": [
    "pd.DataFrame(nU).to_csv('Usermatrix.csv')  \n",
    "pd.DataFrame(nM).to_csv('Moviematrix.csv')  \n",
    "#pd.DataFrame(nR).to_csv('total_matrix.csv')  "
   ]
  }
 ],
 "metadata": {
  "colab": {
   "collapsed_sections": [],
   "provenance": []
  },
  "kernelspec": {
   "display_name": "Python 3 (ipykernel)",
   "language": "python",
   "name": "python3"
  },
  "language_info": {
   "codemirror_mode": {
    "name": "ipython",
    "version": 3
   },
   "file_extension": ".py",
   "mimetype": "text/x-python",
   "name": "python",
   "nbconvert_exporter": "python",
   "pygments_lexer": "ipython3",
   "version": "3.10.7"
  }
 },
 "nbformat": 4,
 "nbformat_minor": 1
}

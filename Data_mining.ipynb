{
  "nbformat": 4,
  "nbformat_minor": 0,
  "metadata": {
    "colab": {
      "provenance": [],
      "collapsed_sections": []
    },
    "kernelspec": {
      "name": "python3",
      "display_name": "Python 3"
    },
    "language_info": {
      "name": "python"
    }
  },
  "cells": [
    {
      "cell_type": "code",
      "execution_count": null,
      "metadata": {
        "colab": {
          "base_uri": "https://localhost:8080/"
        },
        "id": "MPWGr9FpVh3h",
        "outputId": "0a8c94e7-1951-4be5-d984-81745acbbfeb"
      },
      "outputs": [
        {
          "output_type": "execute_result",
          "data": {
            "text/plain": [
              "UserID     0\n",
              "MovieID    0\n",
              "Ratings    0\n",
              "dtype: int64"
            ]
          },
          "metadata": {},
          "execution_count": 3
        }
      ],
      "source": [
        "# Loading the dataset\n",
        "# Using pandas\n",
        "import pandas as pd\n",
        "# Reading dataset\n",
        "dataset = pd.read_table('ratings.dat', header = None, sep = '::', engine = 'python', usecols = [0,1,2], names = ('UserID','MovieID', 'Ratings'))\n",
        "\n",
        "dataset.head()\n",
        "\n",
        "# Are there missing values?\n",
        "dataset.isna().sum()\n",
        "\n",
        "\n",
        "# Keep in mind that there are “gaps” in numbering of users and items. (Dictionaries? Renumber everything? …)\n",
        "# What is meant with this??"
      ]
    },
    {
      "cell_type": "code",
      "source": [
        "import pandas as pd\n",
        "import numpy as np\n",
        "from sklearn.model_selection import KFold \n",
        "import math\n",
        "from sklearn.metrics import mean_absolute_error as mae\n",
        "from sklearn.linear_model import LogisticRegression as LR\n",
        "from sklearn.metrics import mean_squared_error\n",
        "\n"
      ],
      "metadata": {
        "id": "tsLWLY1DKILx"
      },
      "execution_count": null,
      "outputs": []
    },
    {
      "cell_type": "code",
      "source": [
        "import matplotlib.pyplot as plt\n",
        "plt.hist(dataset['Ratings'])\n",
        "plt.show()"
      ],
      "metadata": {
        "id": "H7YQYLxVV1qb",
        "colab": {
          "base_uri": "https://localhost:8080/",
          "height": 268
        },
        "outputId": "19c34489-0bde-4cb5-9326-f82719fe0bd4"
      },
      "execution_count": null,
      "outputs": [
        {
          "output_type": "display_data",
          "data": {
            "text/plain": [
              "<Figure size 432x288 with 1 Axes>"
            ],
            "image/png": "[encoded data removed]"
          },
          "metadata": {
            "needs_background": "light"
          }
        }
      ]
    },
    {
      "cell_type": "code",
      "source": [
        "# How many unique Users and Movies there are\n",
        "\n",
        "num_userID  = len(dataset.UserID.unique())\n",
        "num_movieID = len(dataset.MovieID.unique())\n",
        "#(num_userID,num_movieID)"
      ],
      "metadata": {
        "id": "vyAJsB8IV3Jj",
        "colab": {
          "base_uri": "https://localhost:8080/"
        },
        "outputId": "8b3ae4a9-9639-4207-ea3f-de24c028ec84"
      },
      "execution_count": null,
      "outputs": [
        {
          "output_type": "execute_result",
          "data": {
            "text/plain": [
              "(1325, 3481)"
            ]
          },
          "metadata": {},
          "execution_count": 5
        }
      ]
    },
    {
      "cell_type": "code",
      "source": [
        "# Taks 1.1 Naive Approaches\n",
        "\n",
        "# Takes a long time to run but I think it works sort of correct, have also have to add everything for test \n",
        "\n",
        "n_splits = 5\n",
        "KF = KFold(n_splits=n_splits, random_state=123, shuffle=True)\n",
        "GlobalAvergage_RMSE, UserAverage_RMSE, MovieAverage_RMSE, LinReg_RMSE, LinRegInter_RMSE = list(),list(),list(),list(),list()\n",
        "GlobalAvergage_MAE, UserAverage_MAE, MovieAverage_MAE, LinReg_MAE, LinRegInter_MAE = list(),list(),list(),list(),list()\n",
        "for train, test in KF.split(dataset):\n",
        "    #Define X and y in train and test\n",
        "    X_train, X_test = dataset.iloc[train, 0:2], dataset.iloc[test, 0:2]\n",
        "    y_train, y_test = dataset.iloc[train, -1], dataset.iloc[test, -1]\n",
        "    \n",
        "    # Models\n",
        "    GlobalAvergage = y_train.mean()\n",
        "    UserAverage = dataset.iloc[train]\n",
        "    MovieAverage = dataset.iloc[train]\n",
        "    \n",
        "    # Create dataframe for Linear Regression\n",
        "    UserAverage = UserAverage['Ratings'].groupby(UserAverage['UserID'], group_keys=False).transform('mean') \n",
        "    MovieAverage = MovieAverage['Ratings'].groupby(MovieAverage['MovieID'], group_keys=False).transform('mean')\n",
        "    X_lr = pd.DataFrame(columns = ['UserAverage', 'MovieAverage'])\n",
        "    X_lr['UserAverage'] = UserAverage\n",
        "    X_lr['MovieAverage'] = MovieAverage   \n",
        "    modelLinReg = LR(random_state=123, fit_intercept=False, max_iter= 10000).fit(X_lr,y_train)\n",
        "    modelLinRegInter = LR(random_state=123, fit_intercept=True, max_iter= 10000).fit(X_lr,y_train)\n",
        "    \n",
        "    \n",
        "    # Predictions \n",
        "    pred_GlobalAvergage = [GlobalAvergage] * len(X_train) \n",
        "    pred_UserAverage = UserAverage\n",
        "    pred_MovieAverage = MovieAverage\n",
        "    pred_LinReg = modelLinReg.predict(X_lr)\n",
        "    pred_LinRegInter = modelLinRegInter.predict(X_lr)\n",
        "\n",
        "    #RMSE's \n",
        "    RMSE_GlobalAvergage = math.sqrt(mean_squared_error(pred_GlobalAvergage,y_train))\n",
        "    RMSE_UserAverage = math.sqrt(mean_squared_error(pred_UserAverage,y_train))\n",
        "    RMSE_MovieAverage = math.sqrt(mean_squared_error(pred_MovieAverage,y_train))\n",
        "    RMSE_LinReg = math.sqrt(mean_squared_error(pred_LinReg,y_train))\n",
        "    RMSE_LinRegInter = math.sqrt(mean_squared_error(pred_LinRegInter,y_train))\n",
        "    \n",
        "    GlobalAvergage_RMSE.append(RMSE_GlobalAvergage)\n",
        "    UserAverage_RMSE.append(RMSE_UserAverage)\n",
        "    MovieAverage_RMSE.append(RMSE_MovieAverage)\n",
        "    LinReg_RMSE.append(RMSE_LinReg)\n",
        "    LinRegInter_RMSE.append(RMSE_LinRegInter)\n",
        "    \n",
        "    # MAE's \n",
        "    MAE_GlobalAvergage = mae(pred_GlobalAvergage, y_train)\n",
        "    MAE_UserAverage = mae(pred_UserAverage, y_train)\n",
        "    MAE_MovieAverage = mae(pred_MovieAverage, y_train)\n",
        "    MAE_LinReg = mae(pred_LinReg, y_train)\n",
        "    MAE_LinRegInter = mae(pred_LinRegInter, y_train)\n",
        "    \n",
        "    GlobalAvergage_MAE.append(MAE_GlobalAvergage)\n",
        "    UserAverage_MAE.append(MAE_UserAverage)\n",
        "    MovieAverage_MAE.append(MAE_MovieAverage)\n",
        "    LinReg_MAE.append(MAE_LinReg)\n",
        "    LinRegInter_MAE.append(MAE_LinRegInter)"
      ],
      "metadata": {
        "id": "uDKcO6zXGZ07"
      },
      "execution_count": null,
      "outputs": []
    },
    {
      "cell_type": "code",
      "source": [
        "Average_RMSE_GlobalAvergage = np.mean(GlobalAvergage_RMSE)\n",
        "Average_MAE_GlobalAvergage =  np.mean(GlobalAvergage_MAE)\n",
        "\n",
        "Average_RMSE_UserAverage = np.mean(UserAverage_RMSE)\n",
        "Average_MAE_UserAverage =  np.mean(UserAverage_MAE)\n",
        "\n",
        "Average_RMSE_MovieAverage = np.mean(MovieAverage_RMSE)\n",
        "Average_MAE_MovieAverage = np.mean(MovieAverage_MAE)\n",
        "\n",
        "Average_RMSE_LinReg = np.mean(LinReg_RMSE)\n",
        "Average_MAE_LinReg = np.mean(LinReg_MAE)\n",
        "\n",
        "Average_RMSE_LinRegInter = np.mean(LinRegInter_RMSE)\n",
        "Average_MAE_LinRegInter = np.mean(LinRegInter_MAE)"
      ],
      "metadata": {
        "id": "e6dXVK_UGpGZ"
      },
      "execution_count": null,
      "outputs": []
    },
    {
      "cell_type": "code",
      "source": [],
      "metadata": {
        "id": "r5SLjzrNKf0h"
      },
      "execution_count": null,
      "outputs": []
    },
    {
      "cell_type": "markdown",
      "source": [
        "## Task 1.2\n"
      ],
      "metadata": {
        "id": "CQT8cckeKgGG"
      }
    },
    {
      "cell_type": "code",
      "source": [
        "dataset_task2 = dataset.pivot(\n",
        "    index='UserID',\n",
        "    columns='MovieID',\n",
        "    values='Ratings'\n",
        ")\n"
      ],
      "metadata": {
        "id": "Uxc3jYCkKjFg"
      },
      "execution_count": null,
      "outputs": []
    },
    {
      "cell_type": "code",
      "source": [
        "def Preprocessing(dataset):\n",
        "    dataset1 = dataset.sub(dataset.mean(axis = 1), axis=0)\n",
        "    dataset_end = dataset1.sub(dataset1.mean(axis = 0), axis = 1)\n",
        "    return dataset_end"
      ],
      "metadata": {
        "id": "-k7BZKhOKm4G"
      },
      "execution_count": null,
      "outputs": []
    },
    {
      "cell_type": "code",
      "source": [
        "def Initialization(dataset):\n",
        "    d = 5\n",
        "    n = dataset.shape[0]\n",
        "    m = dataset.shape[1]\n",
        "    a = dataset.stack().mean()\n",
        "    U = np.empty([n,d])\n",
        "    V = np.empty([d,m])\n",
        "    U.fill(math.sqrt(a/d))\n",
        "    V.fill(math.sqrt(a/d))\n",
        "    return U,V\n",
        "    "
      ],
      "metadata": {
        "id": "-r4UfIQrKpGo"
      },
      "execution_count": null,
      "outputs": []
    }
  ]
}